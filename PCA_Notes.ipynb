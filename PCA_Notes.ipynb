{
 "cells": [
  {
   "cell_type": "code",
   "execution_count": 1,
   "id": "e5be0099",
   "metadata": {},
   "outputs": [],
   "source": [
    "import numpy as np\n",
    "import pandas as pd\n",
    "import matplotlib.pyplot as plt\n",
    "import seaborn as sns\n",
    "%matplotlib inline"
   ]
  },
  {
   "cell_type": "code",
   "execution_count": 2,
   "id": "c8b0afce",
   "metadata": {},
   "outputs": [],
   "source": [
    "from sklearn.datasets import load_breast_cancer"
   ]
  },
  {
   "cell_type": "code",
   "execution_count": 9,
   "id": "ceeff647",
   "metadata": {},
   "outputs": [],
   "source": [
    "cancer = load_breast_cancer()"
   ]
  },
  {
   "cell_type": "code",
   "execution_count": 12,
   "id": "f7113bdc",
   "metadata": {},
   "outputs": [
    {
     "data": {
      "text/plain": [
       "sklearn.utils.Bunch"
      ]
     },
     "execution_count": 12,
     "metadata": {},
     "output_type": "execute_result"
    }
   ],
   "source": [
    "type(cancer)"
   ]
  },
  {
   "cell_type": "markdown",
   "id": "274a0781",
   "metadata": {},
   "source": [
    "bunches act like dictionaries"
   ]
  },
  {
   "cell_type": "code",
   "execution_count": 13,
   "id": "fa823f05",
   "metadata": {},
   "outputs": [
    {
     "data": {
      "text/plain": [
       "dict_keys(['data', 'target', 'frame', 'target_names', 'DESCR', 'feature_names', 'filename', 'data_module'])"
      ]
     },
     "execution_count": 13,
     "metadata": {},
     "output_type": "execute_result"
    }
   ],
   "source": [
    "cancer.keys()"
   ]
  },
  {
   "cell_type": "code",
   "execution_count": 16,
   "id": "73719009",
   "metadata": {},
   "outputs": [
    {
     "data": {
      "text/plain": [
       "array([[1.799e+01, 1.038e+01, 1.228e+02, ..., 2.654e-01, 4.601e-01,\n",
       "        1.189e-01],\n",
       "       [2.057e+01, 1.777e+01, 1.329e+02, ..., 1.860e-01, 2.750e-01,\n",
       "        8.902e-02],\n",
       "       [1.969e+01, 2.125e+01, 1.300e+02, ..., 2.430e-01, 3.613e-01,\n",
       "        8.758e-02],\n",
       "       ...,\n",
       "       [1.660e+01, 2.808e+01, 1.083e+02, ..., 1.418e-01, 2.218e-01,\n",
       "        7.820e-02],\n",
       "       [2.060e+01, 2.933e+01, 1.401e+02, ..., 2.650e-01, 4.087e-01,\n",
       "        1.240e-01],\n",
       "       [7.760e+00, 2.454e+01, 4.792e+01, ..., 0.000e+00, 2.871e-01,\n",
       "        7.039e-02]])"
      ]
     },
     "execution_count": 16,
     "metadata": {},
     "output_type": "execute_result"
    }
   ],
   "source": [
    "cancer['data']"
   ]
  },
  {
   "cell_type": "code",
   "execution_count": 18,
   "id": "6a370c17",
   "metadata": {
    "scrolled": false
   },
   "outputs": [
    {
     "name": "stdout",
     "output_type": "stream",
     "text": [
      ".. _breast_cancer_dataset:\n",
      "\n",
      "Breast cancer wisconsin (diagnostic) dataset\n",
      "--------------------------------------------\n",
      "\n",
      "**Data Set Characteristics:**\n",
      "\n",
      "    :Number of Instances: 569\n",
      "\n",
      "    :Number of Attributes: 30 numeric, predictive attributes and the class\n",
      "\n",
      "    :Attribute Information:\n",
      "        - radius (mean of distances from center to points on the perimeter)\n",
      "        - texture (standard deviation of gray-scale values)\n",
      "        - perimeter\n",
      "        - area\n",
      "        - smoothness (local variation in radius lengths)\n",
      "        - compactness (perimeter^2 / area - 1.0)\n",
      "        - concavity (severity of concave portions of the contour)\n",
      "        - concave points (number of concave portions of the contour)\n",
      "        - symmetry\n",
      "        - fractal dimension (\"coastline approximation\" - 1)\n",
      "\n",
      "        The mean, standard error, and \"worst\" or largest (mean of the three\n",
      "        worst/largest values) of these features were computed for each image,\n",
      "        resulting in 30 features.  For instance, field 0 is Mean Radius, field\n",
      "        10 is Radius SE, field 20 is Worst Radius.\n",
      "\n",
      "        - class:\n",
      "                - WDBC-Malignant\n",
      "                - WDBC-Benign\n",
      "\n",
      "    :Summary Statistics:\n",
      "\n",
      "    ===================================== ====== ======\n",
      "                                           Min    Max\n",
      "    ===================================== ====== ======\n",
      "    radius (mean):                        6.981  28.11\n",
      "    texture (mean):                       9.71   39.28\n",
      "    perimeter (mean):                     43.79  188.5\n",
      "    area (mean):                          143.5  2501.0\n",
      "    smoothness (mean):                    0.053  0.163\n",
      "    compactness (mean):                   0.019  0.345\n",
      "    concavity (mean):                     0.0    0.427\n",
      "    concave points (mean):                0.0    0.201\n",
      "    symmetry (mean):                      0.106  0.304\n",
      "    fractal dimension (mean):             0.05   0.097\n",
      "    radius (standard error):              0.112  2.873\n",
      "    texture (standard error):             0.36   4.885\n",
      "    perimeter (standard error):           0.757  21.98\n",
      "    area (standard error):                6.802  542.2\n",
      "    smoothness (standard error):          0.002  0.031\n",
      "    compactness (standard error):         0.002  0.135\n",
      "    concavity (standard error):           0.0    0.396\n",
      "    concave points (standard error):      0.0    0.053\n",
      "    symmetry (standard error):            0.008  0.079\n",
      "    fractal dimension (standard error):   0.001  0.03\n",
      "    radius (worst):                       7.93   36.04\n",
      "    texture (worst):                      12.02  49.54\n",
      "    perimeter (worst):                    50.41  251.2\n",
      "    area (worst):                         185.2  4254.0\n",
      "    smoothness (worst):                   0.071  0.223\n",
      "    compactness (worst):                  0.027  1.058\n",
      "    concavity (worst):                    0.0    1.252\n",
      "    concave points (worst):               0.0    0.291\n",
      "    symmetry (worst):                     0.156  0.664\n",
      "    fractal dimension (worst):            0.055  0.208\n",
      "    ===================================== ====== ======\n",
      "\n",
      "    :Missing Attribute Values: None\n",
      "\n",
      "    :Class Distribution: 212 - Malignant, 357 - Benign\n",
      "\n",
      "    :Creator:  Dr. William H. Wolberg, W. Nick Street, Olvi L. Mangasarian\n",
      "\n",
      "    :Donor: Nick Street\n",
      "\n",
      "    :Date: November, 1995\n",
      "\n",
      "This is a copy of UCI ML Breast Cancer Wisconsin (Diagnostic) datasets.\n",
      "https://goo.gl/U2Uwz2\n",
      "\n",
      "Features are computed from a digitized image of a fine needle\n",
      "aspirate (FNA) of a breast mass.  They describe\n",
      "characteristics of the cell nuclei present in the image.\n",
      "\n",
      "Separating plane described above was obtained using\n",
      "Multisurface Method-Tree (MSM-T) [K. P. Bennett, \"Decision Tree\n",
      "Construction Via Linear Programming.\" Proceedings of the 4th\n",
      "Midwest Artificial Intelligence and Cognitive Science Society,\n",
      "pp. 97-101, 1992], a classification method which uses linear\n",
      "programming to construct a decision tree.  Relevant features\n",
      "were selected using an exhaustive search in the space of 1-4\n",
      "features and 1-3 separating planes.\n",
      "\n",
      "The actual linear program used to obtain the separating plane\n",
      "in the 3-dimensional space is that described in:\n",
      "[K. P. Bennett and O. L. Mangasarian: \"Robust Linear\n",
      "Programming Discrimination of Two Linearly Inseparable Sets\",\n",
      "Optimization Methods and Software 1, 1992, 23-34].\n",
      "\n",
      "This database is also available through the UW CS ftp server:\n",
      "\n",
      "ftp ftp.cs.wisc.edu\n",
      "cd math-prog/cpo-dataset/machine-learn/WDBC/\n",
      "\n",
      ".. topic:: References\n",
      "\n",
      "   - W.N. Street, W.H. Wolberg and O.L. Mangasarian. Nuclear feature extraction \n",
      "     for breast tumor diagnosis. IS&T/SPIE 1993 International Symposium on \n",
      "     Electronic Imaging: Science and Technology, volume 1905, pages 861-870,\n",
      "     San Jose, CA, 1993.\n",
      "   - O.L. Mangasarian, W.N. Street and W.H. Wolberg. Breast cancer diagnosis and \n",
      "     prognosis via linear programming. Operations Research, 43(4), pages 570-577, \n",
      "     July-August 1995.\n",
      "   - W.H. Wolberg, W.N. Street, and O.L. Mangasarian. Machine learning techniques\n",
      "     to diagnose breast cancer from fine-needle aspirates. Cancer Letters 77 (1994) \n",
      "     163-171.\n"
     ]
    }
   ],
   "source": [
    "print(cancer['DESCR'])\n",
    "\n",
    "#make sure to use print so it is formatted correctly"
   ]
  },
  {
   "cell_type": "code",
   "execution_count": 19,
   "id": "3451dadd",
   "metadata": {},
   "outputs": [],
   "source": [
    "#goal here is not to classify on whether a tumor is malignant or benign\n",
    "#but to find which components are the most important in explaining\n",
    "#the dataset's variance"
   ]
  },
  {
   "cell_type": "code",
   "execution_count": 23,
   "id": "9352b6a7",
   "metadata": {},
   "outputs": [
    {
     "data": {
      "text/plain": [
       "array(['mean radius', 'mean texture', 'mean perimeter', 'mean area',\n",
       "       'mean smoothness', 'mean compactness', 'mean concavity',\n",
       "       'mean concave points', 'mean symmetry', 'mean fractal dimension',\n",
       "       'radius error', 'texture error', 'perimeter error', 'area error',\n",
       "       'smoothness error', 'compactness error', 'concavity error',\n",
       "       'concave points error', 'symmetry error',\n",
       "       'fractal dimension error', 'worst radius', 'worst texture',\n",
       "       'worst perimeter', 'worst area', 'worst smoothness',\n",
       "       'worst compactness', 'worst concavity', 'worst concave points',\n",
       "       'worst symmetry', 'worst fractal dimension'], dtype='<U23')"
      ]
     },
     "execution_count": 23,
     "metadata": {},
     "output_type": "execute_result"
    }
   ],
   "source": [
    "cancer['feature_names']"
   ]
  },
  {
   "cell_type": "code",
   "execution_count": 24,
   "id": "0ed2cf3e",
   "metadata": {},
   "outputs": [
    {
     "data": {
      "text/plain": [
       "array([0, 0, 0, 0, 0, 0, 0, 0, 0, 0, 0, 0, 0, 0, 0, 0, 0, 0, 0, 1, 1, 1,\n",
       "       0, 0, 0, 0, 0, 0, 0, 0, 0, 0, 0, 0, 0, 0, 0, 1, 0, 0, 0, 0, 0, 0,\n",
       "       0, 0, 1, 0, 1, 1, 1, 1, 1, 0, 0, 1, 0, 0, 1, 1, 1, 1, 0, 1, 0, 0,\n",
       "       1, 1, 1, 1, 0, 1, 0, 0, 1, 0, 1, 0, 0, 1, 1, 1, 0, 0, 1, 0, 0, 0,\n",
       "       1, 1, 1, 0, 1, 1, 0, 0, 1, 1, 1, 0, 0, 1, 1, 1, 1, 0, 1, 1, 0, 1,\n",
       "       1, 1, 1, 1, 1, 1, 1, 0, 0, 0, 1, 0, 0, 1, 1, 1, 0, 0, 1, 0, 1, 0,\n",
       "       0, 1, 0, 0, 1, 1, 0, 1, 1, 0, 1, 1, 1, 1, 0, 1, 1, 1, 1, 1, 1, 1,\n",
       "       1, 1, 0, 1, 1, 1, 1, 0, 0, 1, 0, 1, 1, 0, 0, 1, 1, 0, 0, 1, 1, 1,\n",
       "       1, 0, 1, 1, 0, 0, 0, 1, 0, 1, 0, 1, 1, 1, 0, 1, 1, 0, 0, 1, 0, 0,\n",
       "       0, 0, 1, 0, 0, 0, 1, 0, 1, 0, 1, 1, 0, 1, 0, 0, 0, 0, 1, 1, 0, 0,\n",
       "       1, 1, 1, 0, 1, 1, 1, 1, 1, 0, 0, 1, 1, 0, 1, 1, 0, 0, 1, 0, 1, 1,\n",
       "       1, 1, 0, 1, 1, 1, 1, 1, 0, 1, 0, 0, 0, 0, 0, 0, 0, 0, 0, 0, 0, 0,\n",
       "       0, 0, 1, 1, 1, 1, 1, 1, 0, 1, 0, 1, 1, 0, 1, 1, 0, 1, 0, 0, 1, 1,\n",
       "       1, 1, 1, 1, 1, 1, 1, 1, 1, 1, 1, 0, 1, 1, 0, 1, 0, 1, 1, 1, 1, 1,\n",
       "       1, 1, 1, 1, 1, 1, 1, 1, 1, 0, 1, 1, 1, 0, 1, 0, 1, 1, 1, 1, 0, 0,\n",
       "       0, 1, 1, 1, 1, 0, 1, 0, 1, 0, 1, 1, 1, 0, 1, 1, 1, 1, 1, 1, 1, 0,\n",
       "       0, 0, 1, 1, 1, 1, 1, 1, 1, 1, 1, 1, 1, 0, 0, 1, 0, 0, 0, 1, 0, 0,\n",
       "       1, 1, 1, 1, 1, 0, 1, 1, 1, 1, 1, 0, 1, 1, 1, 0, 1, 1, 0, 0, 1, 1,\n",
       "       1, 1, 1, 1, 0, 1, 1, 1, 1, 1, 1, 1, 0, 1, 1, 1, 1, 1, 0, 1, 1, 0,\n",
       "       1, 1, 1, 1, 1, 1, 1, 1, 1, 1, 1, 1, 0, 1, 0, 0, 1, 0, 1, 1, 1, 1,\n",
       "       1, 0, 1, 1, 0, 1, 0, 1, 1, 0, 1, 0, 1, 1, 1, 1, 1, 1, 1, 1, 0, 0,\n",
       "       1, 1, 1, 1, 1, 1, 0, 1, 1, 1, 1, 1, 1, 1, 1, 1, 1, 0, 1, 1, 1, 1,\n",
       "       1, 1, 1, 0, 1, 0, 1, 1, 0, 1, 1, 1, 1, 1, 0, 0, 1, 0, 1, 0, 1, 1,\n",
       "       1, 1, 1, 0, 1, 1, 0, 1, 0, 1, 0, 0, 1, 1, 1, 0, 1, 1, 1, 1, 1, 1,\n",
       "       1, 1, 1, 1, 1, 0, 1, 0, 0, 1, 1, 1, 1, 1, 1, 1, 1, 1, 1, 1, 1, 1,\n",
       "       1, 1, 1, 1, 1, 1, 1, 1, 1, 1, 1, 1, 0, 0, 0, 0, 0, 0, 1])"
      ]
     },
     "execution_count": 24,
     "metadata": {},
     "output_type": "execute_result"
    }
   ],
   "source": [
    "cancer['target']"
   ]
  },
  {
   "cell_type": "code",
   "execution_count": 25,
   "id": "798aa7d4",
   "metadata": {},
   "outputs": [
    {
     "data": {
      "text/plain": [
       "array(['malignant', 'benign'], dtype='<U9')"
      ]
     },
     "execution_count": 25,
     "metadata": {},
     "output_type": "execute_result"
    }
   ],
   "source": [
    "cancer['target_names']"
   ]
  },
  {
   "cell_type": "code",
   "execution_count": 20,
   "id": "9fd22436",
   "metadata": {},
   "outputs": [],
   "source": [
    "df = pd.DataFrame(cancer['data'],columns=cancer['feature_names'])"
   ]
  },
  {
   "cell_type": "code",
   "execution_count": 21,
   "id": "6e229088",
   "metadata": {},
   "outputs": [
    {
     "data": {
      "text/html": [
       "<div>\n",
       "<style scoped>\n",
       "    .dataframe tbody tr th:only-of-type {\n",
       "        vertical-align: middle;\n",
       "    }\n",
       "\n",
       "    .dataframe tbody tr th {\n",
       "        vertical-align: top;\n",
       "    }\n",
       "\n",
       "    .dataframe thead th {\n",
       "        text-align: right;\n",
       "    }\n",
       "</style>\n",
       "<table border=\"1\" class=\"dataframe\">\n",
       "  <thead>\n",
       "    <tr style=\"text-align: right;\">\n",
       "      <th></th>\n",
       "      <th>mean radius</th>\n",
       "      <th>mean texture</th>\n",
       "      <th>mean perimeter</th>\n",
       "      <th>mean area</th>\n",
       "      <th>mean smoothness</th>\n",
       "      <th>mean compactness</th>\n",
       "      <th>mean concavity</th>\n",
       "      <th>mean concave points</th>\n",
       "      <th>mean symmetry</th>\n",
       "      <th>mean fractal dimension</th>\n",
       "      <th>...</th>\n",
       "      <th>worst radius</th>\n",
       "      <th>worst texture</th>\n",
       "      <th>worst perimeter</th>\n",
       "      <th>worst area</th>\n",
       "      <th>worst smoothness</th>\n",
       "      <th>worst compactness</th>\n",
       "      <th>worst concavity</th>\n",
       "      <th>worst concave points</th>\n",
       "      <th>worst symmetry</th>\n",
       "      <th>worst fractal dimension</th>\n",
       "    </tr>\n",
       "  </thead>\n",
       "  <tbody>\n",
       "    <tr>\n",
       "      <th>0</th>\n",
       "      <td>17.99</td>\n",
       "      <td>10.38</td>\n",
       "      <td>122.80</td>\n",
       "      <td>1001.0</td>\n",
       "      <td>0.11840</td>\n",
       "      <td>0.27760</td>\n",
       "      <td>0.3001</td>\n",
       "      <td>0.14710</td>\n",
       "      <td>0.2419</td>\n",
       "      <td>0.07871</td>\n",
       "      <td>...</td>\n",
       "      <td>25.38</td>\n",
       "      <td>17.33</td>\n",
       "      <td>184.60</td>\n",
       "      <td>2019.0</td>\n",
       "      <td>0.1622</td>\n",
       "      <td>0.6656</td>\n",
       "      <td>0.7119</td>\n",
       "      <td>0.2654</td>\n",
       "      <td>0.4601</td>\n",
       "      <td>0.11890</td>\n",
       "    </tr>\n",
       "    <tr>\n",
       "      <th>1</th>\n",
       "      <td>20.57</td>\n",
       "      <td>17.77</td>\n",
       "      <td>132.90</td>\n",
       "      <td>1326.0</td>\n",
       "      <td>0.08474</td>\n",
       "      <td>0.07864</td>\n",
       "      <td>0.0869</td>\n",
       "      <td>0.07017</td>\n",
       "      <td>0.1812</td>\n",
       "      <td>0.05667</td>\n",
       "      <td>...</td>\n",
       "      <td>24.99</td>\n",
       "      <td>23.41</td>\n",
       "      <td>158.80</td>\n",
       "      <td>1956.0</td>\n",
       "      <td>0.1238</td>\n",
       "      <td>0.1866</td>\n",
       "      <td>0.2416</td>\n",
       "      <td>0.1860</td>\n",
       "      <td>0.2750</td>\n",
       "      <td>0.08902</td>\n",
       "    </tr>\n",
       "    <tr>\n",
       "      <th>2</th>\n",
       "      <td>19.69</td>\n",
       "      <td>21.25</td>\n",
       "      <td>130.00</td>\n",
       "      <td>1203.0</td>\n",
       "      <td>0.10960</td>\n",
       "      <td>0.15990</td>\n",
       "      <td>0.1974</td>\n",
       "      <td>0.12790</td>\n",
       "      <td>0.2069</td>\n",
       "      <td>0.05999</td>\n",
       "      <td>...</td>\n",
       "      <td>23.57</td>\n",
       "      <td>25.53</td>\n",
       "      <td>152.50</td>\n",
       "      <td>1709.0</td>\n",
       "      <td>0.1444</td>\n",
       "      <td>0.4245</td>\n",
       "      <td>0.4504</td>\n",
       "      <td>0.2430</td>\n",
       "      <td>0.3613</td>\n",
       "      <td>0.08758</td>\n",
       "    </tr>\n",
       "    <tr>\n",
       "      <th>3</th>\n",
       "      <td>11.42</td>\n",
       "      <td>20.38</td>\n",
       "      <td>77.58</td>\n",
       "      <td>386.1</td>\n",
       "      <td>0.14250</td>\n",
       "      <td>0.28390</td>\n",
       "      <td>0.2414</td>\n",
       "      <td>0.10520</td>\n",
       "      <td>0.2597</td>\n",
       "      <td>0.09744</td>\n",
       "      <td>...</td>\n",
       "      <td>14.91</td>\n",
       "      <td>26.50</td>\n",
       "      <td>98.87</td>\n",
       "      <td>567.7</td>\n",
       "      <td>0.2098</td>\n",
       "      <td>0.8663</td>\n",
       "      <td>0.6869</td>\n",
       "      <td>0.2575</td>\n",
       "      <td>0.6638</td>\n",
       "      <td>0.17300</td>\n",
       "    </tr>\n",
       "    <tr>\n",
       "      <th>4</th>\n",
       "      <td>20.29</td>\n",
       "      <td>14.34</td>\n",
       "      <td>135.10</td>\n",
       "      <td>1297.0</td>\n",
       "      <td>0.10030</td>\n",
       "      <td>0.13280</td>\n",
       "      <td>0.1980</td>\n",
       "      <td>0.10430</td>\n",
       "      <td>0.1809</td>\n",
       "      <td>0.05883</td>\n",
       "      <td>...</td>\n",
       "      <td>22.54</td>\n",
       "      <td>16.67</td>\n",
       "      <td>152.20</td>\n",
       "      <td>1575.0</td>\n",
       "      <td>0.1374</td>\n",
       "      <td>0.2050</td>\n",
       "      <td>0.4000</td>\n",
       "      <td>0.1625</td>\n",
       "      <td>0.2364</td>\n",
       "      <td>0.07678</td>\n",
       "    </tr>\n",
       "  </tbody>\n",
       "</table>\n",
       "<p>5 rows × 30 columns</p>\n",
       "</div>"
      ],
      "text/plain": [
       "   mean radius  mean texture  mean perimeter  mean area  mean smoothness  \\\n",
       "0        17.99         10.38          122.80     1001.0          0.11840   \n",
       "1        20.57         17.77          132.90     1326.0          0.08474   \n",
       "2        19.69         21.25          130.00     1203.0          0.10960   \n",
       "3        11.42         20.38           77.58      386.1          0.14250   \n",
       "4        20.29         14.34          135.10     1297.0          0.10030   \n",
       "\n",
       "   mean compactness  mean concavity  mean concave points  mean symmetry  \\\n",
       "0           0.27760          0.3001              0.14710         0.2419   \n",
       "1           0.07864          0.0869              0.07017         0.1812   \n",
       "2           0.15990          0.1974              0.12790         0.2069   \n",
       "3           0.28390          0.2414              0.10520         0.2597   \n",
       "4           0.13280          0.1980              0.10430         0.1809   \n",
       "\n",
       "   mean fractal dimension  ...  worst radius  worst texture  worst perimeter  \\\n",
       "0                 0.07871  ...         25.38          17.33           184.60   \n",
       "1                 0.05667  ...         24.99          23.41           158.80   \n",
       "2                 0.05999  ...         23.57          25.53           152.50   \n",
       "3                 0.09744  ...         14.91          26.50            98.87   \n",
       "4                 0.05883  ...         22.54          16.67           152.20   \n",
       "\n",
       "   worst area  worst smoothness  worst compactness  worst concavity  \\\n",
       "0      2019.0            0.1622             0.6656           0.7119   \n",
       "1      1956.0            0.1238             0.1866           0.2416   \n",
       "2      1709.0            0.1444             0.4245           0.4504   \n",
       "3       567.7            0.2098             0.8663           0.6869   \n",
       "4      1575.0            0.1374             0.2050           0.4000   \n",
       "\n",
       "   worst concave points  worst symmetry  worst fractal dimension  \n",
       "0                0.2654          0.4601                  0.11890  \n",
       "1                0.1860          0.2750                  0.08902  \n",
       "2                0.2430          0.3613                  0.08758  \n",
       "3                0.2575          0.6638                  0.17300  \n",
       "4                0.1625          0.2364                  0.07678  \n",
       "\n",
       "[5 rows x 30 columns]"
      ]
     },
     "execution_count": 21,
     "metadata": {},
     "output_type": "execute_result"
    }
   ],
   "source": [
    "df.head()"
   ]
  },
  {
   "cell_type": "code",
   "execution_count": 26,
   "id": "63e06177",
   "metadata": {},
   "outputs": [],
   "source": [
    "#if you were to build a machine learning algorithm with this dataset,\n",
    "#you would typically do PCA first to see which features are most important\n",
    "#in determining whether a tumor is malignant"
   ]
  },
  {
   "cell_type": "code",
   "execution_count": 27,
   "id": "7b2ced83",
   "metadata": {},
   "outputs": [],
   "source": [
    "#we are dealing with 30 dimensions, which cannot be visualized. We can,\n",
    "#however, visualize the two principal components into 2d space"
   ]
  },
  {
   "cell_type": "code",
   "execution_count": 28,
   "id": "c42a1c8b",
   "metadata": {},
   "outputs": [],
   "source": [
    "from sklearn.preprocessing import StandardScaler"
   ]
  },
  {
   "cell_type": "code",
   "execution_count": 29,
   "id": "b927f52f",
   "metadata": {},
   "outputs": [],
   "source": [
    "scaler = StandardScaler()"
   ]
  },
  {
   "cell_type": "code",
   "execution_count": 30,
   "id": "447233ec",
   "metadata": {},
   "outputs": [
    {
     "data": {
      "text/plain": [
       "StandardScaler()"
      ]
     },
     "execution_count": 30,
     "metadata": {},
     "output_type": "execute_result"
    }
   ],
   "source": [
    "scaler.fit(df)"
   ]
  },
  {
   "cell_type": "code",
   "execution_count": 31,
   "id": "2fad0a25",
   "metadata": {},
   "outputs": [],
   "source": [
    "scaled_data = scaler.transform(df)"
   ]
  },
  {
   "cell_type": "code",
   "execution_count": null,
   "id": "53d9e2cd",
   "metadata": {},
   "outputs": [],
   "source": [
    "#PCA uses a similar process to the other preprocessing functions such\n",
    "#as sklearn.\n",
    "\n",
    "# we will instantiate a PCA object, find the principal components using\n",
    "#the fit method, and then apply the rotation and dimensionality \n",
    "#reduction by calling transform. We can also specify how many components\n",
    "#we want to keep when creating the PCA object"
   ]
  },
  {
   "cell_type": "code",
   "execution_count": 33,
   "id": "0c410363",
   "metadata": {},
   "outputs": [],
   "source": [
    "#PCA\n",
    "\n",
    "from sklearn.decomposition import PCA"
   ]
  },
  {
   "cell_type": "code",
   "execution_count": 34,
   "id": "ef16759f",
   "metadata": {},
   "outputs": [],
   "source": [
    "pca = PCA(n_components=2)\n",
    "\n",
    "#we are attempting to keep only two components and then visualize the\n",
    "#entire 30-dimensional dataset using only two dimensions."
   ]
  },
  {
   "cell_type": "code",
   "execution_count": 35,
   "id": "241f0a62",
   "metadata": {},
   "outputs": [
    {
     "data": {
      "text/plain": [
       "PCA(n_components=2)"
      ]
     },
     "execution_count": 35,
     "metadata": {},
     "output_type": "execute_result"
    }
   ],
   "source": [
    "pca.fit(scaled_data)"
   ]
  },
  {
   "cell_type": "code",
   "execution_count": 36,
   "id": "56c4ca5b",
   "metadata": {},
   "outputs": [],
   "source": [
    "x_pca = pca.transform(scaled_data)"
   ]
  },
  {
   "cell_type": "code",
   "execution_count": 37,
   "id": "260fba3e",
   "metadata": {},
   "outputs": [
    {
     "data": {
      "text/plain": [
       "(569, 30)"
      ]
     },
     "execution_count": 37,
     "metadata": {},
     "output_type": "execute_result"
    }
   ],
   "source": [
    "scaled_data.shape"
   ]
  },
  {
   "cell_type": "code",
   "execution_count": 38,
   "id": "2b063c76",
   "metadata": {},
   "outputs": [
    {
     "data": {
      "text/plain": [
       "(569, 2)"
      ]
     },
     "execution_count": 38,
     "metadata": {},
     "output_type": "execute_result"
    }
   ],
   "source": [
    "x_pca.shape"
   ]
  },
  {
   "cell_type": "code",
   "execution_count": 44,
   "id": "f1ea9693",
   "metadata": {},
   "outputs": [
    {
     "data": {
      "text/plain": [
       "Text(0, 0.5, 'Second Principal Component')"
      ]
     },
     "execution_count": 44,
     "metadata": {},
     "output_type": "execute_result"
    },
    {
     "data": {
      "image/png": "[encoded data removed]",
      "text/plain": [
       "<Figure size 800x600 with 1 Axes>"
      ]
     },
     "metadata": {},
     "output_type": "display_data"
    }
   ],
   "source": [
    "sns.set_style('darkgrid')\n",
    "plt.figure(figsize=(8,6))\n",
    "plt.scatter(x_pca[:,0],x_pca[:,1],c=cancer['target'],cmap='flare')\n",
    "plt.xlabel('First Principal Component')\n",
    "plt.ylabel('Second Principal Component')\n",
    "\n",
    "#this plot looks different (almost reversed) than the video lecture,\n",
    "#but running the lecture notes shows the same plot as the one here"
   ]
  },
  {
   "cell_type": "code",
   "execution_count": 45,
   "id": "06912478",
   "metadata": {},
   "outputs": [],
   "source": [
    "#this shows that even based on two principal components, there is \n",
    "#a very clear difference between malignant and malign tumors\n",
    "\n",
    "#the tradeoff is that we cannot easily understand what each component\n",
    "#represents; they correspond to combinations of the original features\n",
    "#and the components themselves are stored as an attribute of the PCA \n",
    "#object"
   ]
  },
  {
   "cell_type": "code",
   "execution_count": 46,
   "id": "1c2fccf8",
   "metadata": {},
   "outputs": [
    {
     "data": {
      "text/plain": [
       "array([[ 0.21890244,  0.10372458,  0.22753729,  0.22099499,  0.14258969,\n",
       "         0.23928535,  0.25840048,  0.26085376,  0.13816696,  0.06436335,\n",
       "         0.20597878,  0.01742803,  0.21132592,  0.20286964,  0.01453145,\n",
       "         0.17039345,  0.15358979,  0.1834174 ,  0.04249842,  0.10256832,\n",
       "         0.22799663,  0.10446933,  0.23663968,  0.22487053,  0.12795256,\n",
       "         0.21009588,  0.22876753,  0.25088597,  0.12290456,  0.13178394],\n",
       "       [-0.23385713, -0.05970609, -0.21518136, -0.23107671,  0.18611302,\n",
       "         0.15189161,  0.06016536, -0.0347675 ,  0.19034877,  0.36657547,\n",
       "        -0.10555215,  0.08997968, -0.08945723, -0.15229263,  0.20443045,\n",
       "         0.2327159 ,  0.19720728,  0.13032156,  0.183848  ,  0.28009203,\n",
       "        -0.21986638, -0.0454673 , -0.19987843, -0.21935186,  0.17230435,\n",
       "         0.14359317,  0.09796411, -0.00825724,  0.14188335,  0.27533947]])"
      ]
     },
     "execution_count": 46,
     "metadata": {},
     "output_type": "execute_result"
    }
   ],
   "source": [
    "pca.components_"
   ]
  },
  {
   "cell_type": "code",
   "execution_count": 47,
   "id": "09e7f37b",
   "metadata": {},
   "outputs": [],
   "source": [
    "#each row represents a principal component and each column relates back\n",
    "#to the original features"
   ]
  },
  {
   "cell_type": "code",
   "execution_count": 48,
   "id": "16cd12e7",
   "metadata": {},
   "outputs": [],
   "source": [
    "df_comp = pd.DataFrame(pca.components_,columns = cancer['feature_names'])"
   ]
  },
  {
   "cell_type": "code",
   "execution_count": 49,
   "id": "b4649c1d",
   "metadata": {},
   "outputs": [
    {
     "data": {
      "text/html": [
       "<div>\n",
       "<style scoped>\n",
       "    .dataframe tbody tr th:only-of-type {\n",
       "        vertical-align: middle;\n",
       "    }\n",
       "\n",
       "    .dataframe tbody tr th {\n",
       "        vertical-align: top;\n",
       "    }\n",
       "\n",
       "    .dataframe thead th {\n",
       "        text-align: right;\n",
       "    }\n",
       "</style>\n",
       "<table border=\"1\" class=\"dataframe\">\n",
       "  <thead>\n",
       "    <tr style=\"text-align: right;\">\n",
       "      <th></th>\n",
       "      <th>mean radius</th>\n",
       "      <th>mean texture</th>\n",
       "      <th>mean perimeter</th>\n",
       "      <th>mean area</th>\n",
       "      <th>mean smoothness</th>\n",
       "      <th>mean compactness</th>\n",
       "      <th>mean concavity</th>\n",
       "      <th>mean concave points</th>\n",
       "      <th>mean symmetry</th>\n",
       "      <th>mean fractal dimension</th>\n",
       "      <th>...</th>\n",
       "      <th>worst radius</th>\n",
       "      <th>worst texture</th>\n",
       "      <th>worst perimeter</th>\n",
       "      <th>worst area</th>\n",
       "      <th>worst smoothness</th>\n",
       "      <th>worst compactness</th>\n",
       "      <th>worst concavity</th>\n",
       "      <th>worst concave points</th>\n",
       "      <th>worst symmetry</th>\n",
       "      <th>worst fractal dimension</th>\n",
       "    </tr>\n",
       "  </thead>\n",
       "  <tbody>\n",
       "    <tr>\n",
       "      <th>0</th>\n",
       "      <td>0.218902</td>\n",
       "      <td>0.103725</td>\n",
       "      <td>0.227537</td>\n",
       "      <td>0.220995</td>\n",
       "      <td>0.142590</td>\n",
       "      <td>0.239285</td>\n",
       "      <td>0.258400</td>\n",
       "      <td>0.260854</td>\n",
       "      <td>0.138167</td>\n",
       "      <td>0.064363</td>\n",
       "      <td>...</td>\n",
       "      <td>0.227997</td>\n",
       "      <td>0.104469</td>\n",
       "      <td>0.236640</td>\n",
       "      <td>0.224871</td>\n",
       "      <td>0.127953</td>\n",
       "      <td>0.210096</td>\n",
       "      <td>0.228768</td>\n",
       "      <td>0.250886</td>\n",
       "      <td>0.122905</td>\n",
       "      <td>0.131784</td>\n",
       "    </tr>\n",
       "    <tr>\n",
       "      <th>1</th>\n",
       "      <td>-0.233857</td>\n",
       "      <td>-0.059706</td>\n",
       "      <td>-0.215181</td>\n",
       "      <td>-0.231077</td>\n",
       "      <td>0.186113</td>\n",
       "      <td>0.151892</td>\n",
       "      <td>0.060165</td>\n",
       "      <td>-0.034768</td>\n",
       "      <td>0.190349</td>\n",
       "      <td>0.366575</td>\n",
       "      <td>...</td>\n",
       "      <td>-0.219866</td>\n",
       "      <td>-0.045467</td>\n",
       "      <td>-0.199878</td>\n",
       "      <td>-0.219352</td>\n",
       "      <td>0.172304</td>\n",
       "      <td>0.143593</td>\n",
       "      <td>0.097964</td>\n",
       "      <td>-0.008257</td>\n",
       "      <td>0.141883</td>\n",
       "      <td>0.275339</td>\n",
       "    </tr>\n",
       "  </tbody>\n",
       "</table>\n",
       "<p>2 rows × 30 columns</p>\n",
       "</div>"
      ],
      "text/plain": [
       "   mean radius  mean texture  mean perimeter  mean area  mean smoothness  \\\n",
       "0     0.218902      0.103725        0.227537   0.220995         0.142590   \n",
       "1    -0.233857     -0.059706       -0.215181  -0.231077         0.186113   \n",
       "\n",
       "   mean compactness  mean concavity  mean concave points  mean symmetry  \\\n",
       "0          0.239285        0.258400             0.260854       0.138167   \n",
       "1          0.151892        0.060165            -0.034768       0.190349   \n",
       "\n",
       "   mean fractal dimension  ...  worst radius  worst texture  worst perimeter  \\\n",
       "0                0.064363  ...      0.227997       0.104469         0.236640   \n",
       "1                0.366575  ...     -0.219866      -0.045467        -0.199878   \n",
       "\n",
       "   worst area  worst smoothness  worst compactness  worst concavity  \\\n",
       "0    0.224871          0.127953           0.210096         0.228768   \n",
       "1   -0.219352          0.172304           0.143593         0.097964   \n",
       "\n",
       "   worst concave points  worst symmetry  worst fractal dimension  \n",
       "0              0.250886        0.122905                 0.131784  \n",
       "1             -0.008257        0.141883                 0.275339  \n",
       "\n",
       "[2 rows x 30 columns]"
      ]
     },
     "execution_count": 49,
     "metadata": {},
     "output_type": "execute_result"
    }
   ],
   "source": [
    "df_comp"
   ]
  },
  {
   "cell_type": "code",
   "execution_count": 50,
   "id": "c76824d5",
   "metadata": {},
   "outputs": [],
   "source": [
    "#this shows a DF where each index is one of the two principal components\n",
    "#and the columns show the relation to each of the original features"
   ]
  },
  {
   "cell_type": "code",
   "execution_count": 52,
   "id": "e5dffb9c",
   "metadata": {},
   "outputs": [
    {
     "data": {
      "text/plain": [
       "<AxesSubplot:>"
      ]
     },
     "execution_count": 52,
     "metadata": {},
     "output_type": "execute_result"
    },
    {
     "data": {
      "image/png": "[encoded data removed]",
      "text/plain": [
       "<Figure size 1200x600 with 2 Axes>"
      ]
     },
     "metadata": {},
     "output_type": "display_data"
    }
   ],
   "source": [
    "plt.figure(figsize=(12,6))\n",
    "sns.heatmap(df_comp,cmap='plasma')"
   ]
  },
  {
   "cell_type": "code",
   "execution_count": 53,
   "id": "d91585c8",
   "metadata": {},
   "outputs": [],
   "source": [
    "#shows the relationship of the various features and the principal \n",
    "#components themselves. High and low correlations seem to be reversed\n",
    "#from the lecture, same as with the scatter plot."
   ]
  },
  {
   "cell_type": "code",
   "execution_count": 54,
   "id": "53ca6ea7",
   "metadata": {},
   "outputs": [],
   "source": [
    "#now trying with three principal components\n",
    "\n",
    "pca3 = PCA(n_components=3)"
   ]
  },
  {
   "cell_type": "code",
   "execution_count": 55,
   "id": "256e028a",
   "metadata": {},
   "outputs": [
    {
     "data": {
      "text/plain": [
       "PCA(n_components=3)"
      ]
     },
     "execution_count": 55,
     "metadata": {},
     "output_type": "execute_result"
    }
   ],
   "source": [
    "pca3.fit(scaled_data)"
   ]
  },
  {
   "cell_type": "code",
   "execution_count": 56,
   "id": "6d465d4d",
   "metadata": {},
   "outputs": [],
   "source": [
    "x_pca3 = pca3.transform(scaled_data)"
   ]
  },
  {
   "cell_type": "code",
   "execution_count": 57,
   "id": "39de30ba",
   "metadata": {},
   "outputs": [
    {
     "data": {
      "text/plain": [
       "(569, 3)"
      ]
     },
     "execution_count": 57,
     "metadata": {},
     "output_type": "execute_result"
    }
   ],
   "source": [
    "x_pca3.shape"
   ]
  },
  {
   "cell_type": "code",
   "execution_count": 59,
   "id": "176a22d7",
   "metadata": {},
   "outputs": [],
   "source": [
    "from mpl_toolkits.mplot3d.axes3d import Axes3D"
   ]
  },
  {
   "cell_type": "code",
   "execution_count": 62,
   "id": "9cb16831",
   "metadata": {
    "scrolled": false
   },
   "outputs": [
    {
     "data": {
      "text/plain": [
       "Text(0.5, 0.5, 'Second Principal Component')"
      ]
     },
     "execution_count": 62,
     "metadata": {},
     "output_type": "execute_result"
    },
    {
     "data": {
      "image/png": "[encoded data removed]",
      "text/plain": [
       "<Figure size 1200x800 with 1 Axes>"
      ]
     },
     "metadata": {},
     "output_type": "display_data"
    }
   ],
   "source": [
    "fig = plt.figure(figsize=(12,8))\n",
    "ax = fig.add_subplot(1, 1, 1, projection='3d')\n",
    "plt.scatter(x_pca[:,0],x_pca3[:,1],x_pca3[:,2],c=cancer['target'],cmap='flare')\n",
    "plt.xlabel('First Principal Component')\n",
    "plt.ylabel('Second Principal Component')\n",
    "#plt.zlabel('Third Principal Component')\n",
    "\n",
    "#too hard to read"
   ]
  },
  {
   "cell_type": "code",
   "execution_count": 63,
   "id": "9a3bbcef",
   "metadata": {},
   "outputs": [],
   "source": [
    "import cufflinks as cf"
   ]
  },
  {
   "cell_type": "code",
   "execution_count": 64,
   "id": "4fa584b7",
   "metadata": {},
   "outputs": [],
   "source": [
    "from plotly.offline import download_plotlyjs, init_notebook_mode,plot,iplot"
   ]
  },
  {
   "cell_type": "code",
   "execution_count": 65,
   "id": "e881b6ed",
   "metadata": {},
   "outputs": [
    {
     "data": {
      "text/html": [
       "        <script type=\"text/javascript\">\n",
       "        window.PlotlyConfig = {MathJaxConfig: 'local'};\n",
       "        if (window.MathJax && window.MathJax.Hub && window.MathJax.Hub.Config) {window.MathJax.Hub.Config({SVG: {font: \"STIX-Web\"}});}\n",
       "        if (typeof require !== 'undefined') {\n",
       "        require.undef(\"plotly\");\n",
       "        requirejs.config({\n",
       "            paths: {\n",
       "                'plotly': ['https://cdn.plot.ly/plotly-2.12.1.min']\n",
       "            }\n",
       "        });\n",
       "        require(['plotly'], function(Plotly) {\n",
       "            window._Plotly = Plotly;\n",
       "        });\n",
       "        }\n",
       "        </script>\n",
       "        "
      ]
     },
     "metadata": {},
     "output_type": "display_data"
    }
   ],
   "source": [
    "init_notebook_mode(connected=True)"
   ]
  },
  {
   "cell_type": "code",
   "execution_count": 66,
   "id": "7380816f",
   "metadata": {},
   "outputs": [
    {
     "data": {
      "text/html": [
       "        <script type=\"text/javascript\">\n",
       "        window.PlotlyConfig = {MathJaxConfig: 'local'};\n",
       "        if (window.MathJax && window.MathJax.Hub && window.MathJax.Hub.Config) {window.MathJax.Hub.Config({SVG: {font: \"STIX-Web\"}});}\n",
       "        if (typeof require !== 'undefined') {\n",
       "        require.undef(\"plotly\");\n",
       "        requirejs.config({\n",
       "            paths: {\n",
       "                'plotly': ['https://cdn.plot.ly/plotly-2.12.1.min']\n",
       "            }\n",
       "        });\n",
       "        require(['plotly'], function(Plotly) {\n",
       "            window._Plotly = Plotly;\n",
       "        });\n",
       "        }\n",
       "        </script>\n",
       "        "
      ]
     },
     "metadata": {},
     "output_type": "display_data"
    }
   ],
   "source": [
    "cf.go_offline()"
   ]
  },
  {
   "cell_type": "code",
   "execution_count": 67,
   "id": "415abd9c",
   "metadata": {},
   "outputs": [
    {
     "data": {
      "text/plain": [
       "array([[ 9.19283683,  1.94858306, -1.12316659],\n",
       "       [ 2.3878018 , -3.76817176, -0.52929331],\n",
       "       [ 5.73389628, -1.0751738 , -0.55174759],\n",
       "       ...,\n",
       "       [ 1.25617928, -1.90229671,  0.56273073],\n",
       "       [10.37479406,  1.67201012, -1.87702887],\n",
       "       [-5.4752433 , -0.67063681,  1.49044244]])"
      ]
     },
     "execution_count": 67,
     "metadata": {},
     "output_type": "execute_result"
    }
   ],
   "source": [
    "x_pca3"
   ]
  },
  {
   "cell_type": "code",
   "execution_count": 86,
   "id": "82f5676a",
   "metadata": {},
   "outputs": [],
   "source": [
    "df3 = pd.DataFrame(x_pca3,columns=['X','Y','Z'])"
   ]
  },
  {
   "cell_type": "code",
   "execution_count": 88,
   "id": "c2c93fa3",
   "metadata": {},
   "outputs": [
    {
     "data": {
      "text/html": [
       "<div>\n",
       "<style scoped>\n",
       "    .dataframe tbody tr th:only-of-type {\n",
       "        vertical-align: middle;\n",
       "    }\n",
       "\n",
       "    .dataframe tbody tr th {\n",
       "        vertical-align: top;\n",
       "    }\n",
       "\n",
       "    .dataframe thead th {\n",
       "        text-align: right;\n",
       "    }\n",
       "</style>\n",
       "<table border=\"1\" class=\"dataframe\">\n",
       "  <thead>\n",
       "    <tr style=\"text-align: right;\">\n",
       "      <th></th>\n",
       "      <th>X</th>\n",
       "      <th>Y</th>\n",
       "      <th>Z</th>\n",
       "    </tr>\n",
       "  </thead>\n",
       "  <tbody>\n",
       "    <tr>\n",
       "      <th>0</th>\n",
       "      <td>9.192837</td>\n",
       "      <td>1.948583</td>\n",
       "      <td>-1.123167</td>\n",
       "    </tr>\n",
       "    <tr>\n",
       "      <th>1</th>\n",
       "      <td>2.387802</td>\n",
       "      <td>-3.768172</td>\n",
       "      <td>-0.529293</td>\n",
       "    </tr>\n",
       "    <tr>\n",
       "      <th>2</th>\n",
       "      <td>5.733896</td>\n",
       "      <td>-1.075174</td>\n",
       "      <td>-0.551748</td>\n",
       "    </tr>\n",
       "    <tr>\n",
       "      <th>3</th>\n",
       "      <td>7.122953</td>\n",
       "      <td>10.275589</td>\n",
       "      <td>-3.232790</td>\n",
       "    </tr>\n",
       "    <tr>\n",
       "      <th>4</th>\n",
       "      <td>3.935302</td>\n",
       "      <td>-1.948072</td>\n",
       "      <td>1.389766</td>\n",
       "    </tr>\n",
       "  </tbody>\n",
       "</table>\n",
       "</div>"
      ],
      "text/plain": [
       "          X          Y         Z\n",
       "0  9.192837   1.948583 -1.123167\n",
       "1  2.387802  -3.768172 -0.529293\n",
       "2  5.733896  -1.075174 -0.551748\n",
       "3  7.122953  10.275589 -3.232790\n",
       "4  3.935302  -1.948072  1.389766"
      ]
     },
     "execution_count": 88,
     "metadata": {},
     "output_type": "execute_result"
    }
   ],
   "source": [
    "df3.head()"
   ]
  },
  {
   "cell_type": "code",
   "execution_count": 91,
   "id": "c256a1ad",
   "metadata": {},
   "outputs": [],
   "source": [
    "df3['target']=cancer['target']"
   ]
  },
  {
   "cell_type": "code",
   "execution_count": 96,
   "id": "e6117d0f",
   "metadata": {},
   "outputs": [
    {
     "data": {
      "text/html": [
       "<div>\n",
       "<style scoped>\n",
       "    .dataframe tbody tr th:only-of-type {\n",
       "        vertical-align: middle;\n",
       "    }\n",
       "\n",
       "    .dataframe tbody tr th {\n",
       "        vertical-align: top;\n",
       "    }\n",
       "\n",
       "    .dataframe thead th {\n",
       "        text-align: right;\n",
       "    }\n",
       "</style>\n",
       "<table border=\"1\" class=\"dataframe\">\n",
       "  <thead>\n",
       "    <tr style=\"text-align: right;\">\n",
       "      <th></th>\n",
       "      <th>X</th>\n",
       "      <th>Y</th>\n",
       "      <th>Z</th>\n",
       "      <th>target</th>\n",
       "    </tr>\n",
       "  </thead>\n",
       "  <tbody>\n",
       "    <tr>\n",
       "      <th>0</th>\n",
       "      <td>9.192837</td>\n",
       "      <td>1.948583</td>\n",
       "      <td>-1.123167</td>\n",
       "      <td>0</td>\n",
       "    </tr>\n",
       "    <tr>\n",
       "      <th>1</th>\n",
       "      <td>2.387802</td>\n",
       "      <td>-3.768172</td>\n",
       "      <td>-0.529293</td>\n",
       "      <td>0</td>\n",
       "    </tr>\n",
       "    <tr>\n",
       "      <th>2</th>\n",
       "      <td>5.733896</td>\n",
       "      <td>-1.075174</td>\n",
       "      <td>-0.551748</td>\n",
       "      <td>0</td>\n",
       "    </tr>\n",
       "    <tr>\n",
       "      <th>3</th>\n",
       "      <td>7.122953</td>\n",
       "      <td>10.275589</td>\n",
       "      <td>-3.232790</td>\n",
       "      <td>0</td>\n",
       "    </tr>\n",
       "    <tr>\n",
       "      <th>4</th>\n",
       "      <td>3.935302</td>\n",
       "      <td>-1.948072</td>\n",
       "      <td>1.389766</td>\n",
       "      <td>0</td>\n",
       "    </tr>\n",
       "  </tbody>\n",
       "</table>\n",
       "</div>"
      ],
      "text/plain": [
       "          X          Y         Z  target\n",
       "0  9.192837   1.948583 -1.123167       0\n",
       "1  2.387802  -3.768172 -0.529293       0\n",
       "2  5.733896  -1.075174 -0.551748       0\n",
       "3  7.122953  10.275589 -3.232790       0\n",
       "4  3.935302  -1.948072  1.389766       0"
      ]
     },
     "execution_count": 96,
     "metadata": {},
     "output_type": "execute_result"
    }
   ],
   "source": [
    "df3.head()"
   ]
  },
  {
   "cell_type": "code",
   "execution_count": 98,
   "id": "0fe2a6dc",
   "metadata": {},
   "outputs": [],
   "source": [
    "def converter(tumor):\n",
    "    if tumor == 0:\n",
    "        return 'malignant'\n",
    "    elif tumor == 1:\n",
    "        return 'benign'\n",
    "    \n",
    "#used because cufflinks would not accept boolean values when trying \n",
    "#to colorize based on category"
   ]
  },
  {
   "cell_type": "code",
   "execution_count": 100,
   "id": "2dde595b",
   "metadata": {},
   "outputs": [],
   "source": [
    "df3['tumor'] = df3['target'].apply(converter)"
   ]
  },
  {
   "cell_type": "code",
   "execution_count": 101,
   "id": "5e7c73e7",
   "metadata": {},
   "outputs": [
    {
     "data": {
      "text/html": [
       "<div>\n",
       "<style scoped>\n",
       "    .dataframe tbody tr th:only-of-type {\n",
       "        vertical-align: middle;\n",
       "    }\n",
       "\n",
       "    .dataframe tbody tr th {\n",
       "        vertical-align: top;\n",
       "    }\n",
       "\n",
       "    .dataframe thead th {\n",
       "        text-align: right;\n",
       "    }\n",
       "</style>\n",
       "<table border=\"1\" class=\"dataframe\">\n",
       "  <thead>\n",
       "    <tr style=\"text-align: right;\">\n",
       "      <th></th>\n",
       "      <th>X</th>\n",
       "      <th>Y</th>\n",
       "      <th>Z</th>\n",
       "      <th>target</th>\n",
       "      <th>tumor</th>\n",
       "    </tr>\n",
       "  </thead>\n",
       "  <tbody>\n",
       "    <tr>\n",
       "      <th>0</th>\n",
       "      <td>9.192837</td>\n",
       "      <td>1.948583</td>\n",
       "      <td>-1.123167</td>\n",
       "      <td>0</td>\n",
       "      <td>malignant</td>\n",
       "    </tr>\n",
       "    <tr>\n",
       "      <th>1</th>\n",
       "      <td>2.387802</td>\n",
       "      <td>-3.768172</td>\n",
       "      <td>-0.529293</td>\n",
       "      <td>0</td>\n",
       "      <td>malignant</td>\n",
       "    </tr>\n",
       "    <tr>\n",
       "      <th>2</th>\n",
       "      <td>5.733896</td>\n",
       "      <td>-1.075174</td>\n",
       "      <td>-0.551748</td>\n",
       "      <td>0</td>\n",
       "      <td>malignant</td>\n",
       "    </tr>\n",
       "    <tr>\n",
       "      <th>3</th>\n",
       "      <td>7.122953</td>\n",
       "      <td>10.275589</td>\n",
       "      <td>-3.232790</td>\n",
       "      <td>0</td>\n",
       "      <td>malignant</td>\n",
       "    </tr>\n",
       "    <tr>\n",
       "      <th>4</th>\n",
       "      <td>3.935302</td>\n",
       "      <td>-1.948072</td>\n",
       "      <td>1.389766</td>\n",
       "      <td>0</td>\n",
       "      <td>malignant</td>\n",
       "    </tr>\n",
       "  </tbody>\n",
       "</table>\n",
       "</div>"
      ],
      "text/plain": [
       "          X          Y         Z  target      tumor\n",
       "0  9.192837   1.948583 -1.123167       0  malignant\n",
       "1  2.387802  -3.768172 -0.529293       0  malignant\n",
       "2  5.733896  -1.075174 -0.551748       0  malignant\n",
       "3  7.122953  10.275589 -3.232790       0  malignant\n",
       "4  3.935302  -1.948072  1.389766       0  malignant"
      ]
     },
     "execution_count": 101,
     "metadata": {},
     "output_type": "execute_result"
    }
   ],
   "source": [
    "df3.head()"
   ]
  },
  {
   "cell_type": "code",
   "execution_count": 102,
   "id": "e1feb93b",
   "metadata": {
    "scrolled": false
   },
   "outputs": [
    {
     "data": {
      "application/vnd.plotly.v1+json": {
       "config": {
        "linkText": "Export to plot.ly",
        "plotlyServerURL": "https://plot.ly",
        "showLink": true
       },
       "data": [
        {
         "marker": {
          "color": "rgba(219, 64, 82, 1.0)",
          "line": {
           "width": 1.3
          },
          "opacity": 0.8,
          "size": 12,
          "symbol": "circle"
         },
         "mode": "markers",
         "name": "malignant",
         "textfont": {
          "color": "#4D5663"
         },
         "type": "scatter3d",
         "x": [
          9.192836826576448,
          2.387801796300841,
          5.733896279727869,
          7.12295319816786,
          3.935302073892527,
          2.380247150325292,
          2.238883308248365,
          2.1432985005008867,
          3.174924292952098,
          6.351746789360705,
          -0.8104137706339322,
          2.6511004770693365,
          8.18503445859089,
          0.34212591404141784,
          4.342379194508793,
          4.075656175026837,
          0.23005501597154307,
          4.418010916348534,
          4.948703550806677,
          4.733210788397608,
          4.208524209144596,
          4.949632074150662,
          7.098562855410243,
          3.5102626043235716,
          3.064053886228294,
          4.007264143546091,
          1.7153097265028125,
          6.059445513298998,
          2.9022361052425287,
          4.554782688516123,
          4.990602722324597,
          2.985340788986493,
          2.766369157758095,
          1.2961987648779898,
          -0.9980689009615645,
          0.7652641156221901,
          -2.1509534707296796,
          -0.0933313866845614,
          9.087999676808277,
          0.9904537656526249,
          -0.29354655086291204,
          5.380940406753096,
          1.700006886990327,
          3.302550950915041,
          -0.674619285466932,
          4.648738872573044,
          2.1768628822622356,
          4.759112153566207,
          1.6916079231581196,
          1.812305404929694,
          2.704596172834234,
          5.503705314694711,
          -0.3617091926205002,
          1.4281675930186464,
          6.2308965117546755,
          11.66871464862908,
          10.76924281945634,
          5.034811085327382,
          3.288235385054486,
          0.6076079450705679,
          3.5835636263188393,
          0.2524975679266415,
          2.77586556905781,
          4.396227954521387,
          0.6162808699416479,
          -0.432860220804948,
          3.2139167652544236,
          13.056121858002893,
          3.110527693377641,
          4.956725570076287,
          0.8510142628305473,
          3.33413319820687,
          12.894612132695496,
          -0.6388804999378603,
          1.9191334223776406,
          4.643691316361919,
          1.432069426625607,
          1.3526270250804344,
          2.1714160183187037,
          -1.976840355153664,
          3.7820264559016037,
          1.3450204378318584,
          2.3999978436864478,
          4.10078772607837,
          3.3873307650677242,
          6.1498861900722535,
          5.494152798142796,
          1.2136346122275248,
          5.069661081437199,
          -0.9474878916303234,
          2.819368343554971,
          2.9563018671943033,
          9.512669844279259,
          9.007165526492477,
          0.7588784845773042,
          -0.39001898098791465,
          0.3648761518925025,
          6.523116618767574,
          1.7796614892028275,
          2.6114848930896213,
          2.498438877965974,
          1.277027174805227,
          3.4731973425897786,
          1.2566751122675823,
          1.6494606960110298,
          9.03658948033231,
          4.554590064673789,
          -0.22309260670222297,
          0.44654439630080994,
          4.808969244882206,
          12.28501975902585,
          3.372196590533264,
          2.508766312018223,
          1.3180684766173005,
          4.943581014464567,
          4.298077329705081,
          1.8032470203799122,
          2.755568001253973,
          3.2572546735891112,
          3.3163241135000474,
          8.403847113979868,
          2.6475686330103345,
          3.350295790682633,
          3.7955656417423107,
          7.14384203894639,
          7.085010648870665,
          1.3140990036856914,
          3.7116495148501785,
          0.4604790905280116,
          6.392649920491658,
          5.25554494980088,
          8.733861503695234,
          3.6913178802111446,
          3.3782508725684526,
          -0.8402096540447427,
          3.2843726195137384,
          -1.908768928199986,
          1.6147819253784252,
          6.619726346970834,
          7.6761494715109055,
          0.33734549263726593,
          0.017430791550437197,
          4.960268117936593,
          3.785060103054232,
          2.637255777183361,
          -2.3858827582301405,
          6.59023594339845,
          7.182933102413292,
          1.8953162763248987,
          1.8348404672926886,
          7.236485314849613,
          2.250510373961534,
          2.1078012274720894,
          1.7859499803029866,
          3.319673971689298,
          4.680166262544347,
          7.353218575009382,
          4.975162358624443,
          6.182283741674432,
          10.934298158400793,
          2.1184969322829,
          2.7350117718390763,
          6.227025988991075,
          5.307140022015208,
          7.248001061458978,
          4.20722061911107,
          3.6350149468442106,
          3.5192482751018175,
          3.7659321539705894,
          -0.5429013639883923,
          4.703500732119059,
          4.149097342640688,
          7.672141552546856,
          6.28967346922866,
          2.7633707862793138,
          -0.9340908104635113,
          6.003616591615382,
          4.949858461549784,
          4.549111146790629,
          4.442342818005178,
          0.6644409149059353,
          2.4723569165731316,
          0.9817275419726932,
          3.2454136489493015,
          4.331653344769503,
          2.5117531021510233,
          3.475493748396199,
          16.319233230607317,
          5.930964859787629,
          3.8244330428341398,
          4.7546148706330875,
          -0.7417817671241713,
          3.103519704014256,
          3.715705103688432,
          5.094841843824669,
          2.7903998294296644,
          7.259178841081981,
          4.094142557207288,
          2.2269944896880474,
          -0.7337724523087519,
          2.69722375426953,
          3.3790146676848796,
          8.630755859548172,
          4.028435260964102,
          5.165410948450631,
          0.5359319491540262,
          5.917612589217796,
          8.741338077733797,
          6.43931548413669,
          3.793382370061101,
          1.2561792759814876,
          10.374794059403252
         ],
         "y": [
          1.9485830601622185,
          -3.768171757707668,
          -1.0751737975035605,
          10.275589107555017,
          -1.9480715751812983,
          3.9499288958340326,
          -2.690031283311762,
          2.3402440035043792,
          3.391812955705597,
          7.727174070072081,
          -2.659275504192535,
          0.06656793199780914,
          2.7009764798437335,
          -0.9682792627062997,
          4.861083315975853,
          2.9770611896730075,
          -1.5647577335166156,
          1.41867032244152,
          -4.114333532099174,
          3.3049637225750526,
          -5.128366515680956,
          -1.5437522921086693,
          2.018610320677209,
          2.1716251036568774,
          -1.8765523532373272,
          0.5372421643072711,
          -1.5237050214809402,
          -0.757177445142644,
          4.005295504992578,
          0.3375361624410852,
          -1.1325889005287608,
          0.7584232415959,
          -0.3543559420159714,
          0.9131962799293747,
          -3.3512929211377003,
          0.8862439446041378,
          -1.9239916159069215,
          2.2607520095923297,
          2.0186731144550945,
          0.9849300158873535,
          -0.13709909338581888,
          -0.13487697220621073,
          2.352271787594993,
          -1.1309377912865735,
          -2.116409720186186,
          -2.3103325733489823,
          0.9721160442507698,
          3.011680516155873,
          1.54067655717893,
          0.7227401934657923,
          -4.437141775466893,
          0.9383254337389939,
          0.11973908401452266,
          -1.967101415906401,
          0.9200695471551342,
          4.748617194634198,
          -2.2579829032303462,
          0.774409160090064,
          -1.668237072706947,
          0.162214528206913,
          -2.206661847915461,
          -0.5313515599793655,
          0.5580005246992946,
          -2.1235077065073504,
          0.6389116651532216,
          -1.3920442993970241,
          4.046756218682672,
          0.981513248189855,
          1.5693895551561763,
          2.3848462160101027,
          -2.306735373398701,
          -1.3255573601579136,
          2.3166225038538153,
          -0.9113660292874951,
          -3.5380823597114177,
          -1.4820171627758638,
          -1.0496039444190262,
          -1.1541414613196281,
          -2.8262607261180293,
          -0.41938745217079765,
          0.8603815870415934,
          -1.2747709585962173,
          4.837988802699805,
          -0.37880380408191605,
          -2.911037121375305,
          -2.0176527583765407,
          -4.1658293199994585,
          -2.0390389602394237,
          -1.785152333467197,
          -1.6847535499483437,
          1.2651031286637213,
          0.7064218498882158,
          -5.603484195822902,
          0.5810310713966674,
          -1.6085325697135533,
          -0.9892423549080652,
          -3.5744612273008585,
          8.011169660354078,
          2.7765871704231353,
          1.5614217116636873,
          2.278482844639902,
          -2.443258948672212,
          -2.2778489011121157,
          0.382393255559677,
          -2.102291073366428,
          -0.655172826536812,
          3.0866391604394687,
          -0.7018214928891942,
          -2.7877077376501465,
          -3.0291029721913714,
          -7.543410156759027,
          2.5878254318542053,
          2.6146484645742296,
          2.154479498973073,
          -2.8483244561631533,
          -4.6662751735850065,
          0.16646095988920687,
          3.465773600011561,
          -0.1252004964330724,
          -3.9391522608043568,
          -4.153904791425742,
          -3.9511729487049596,
          -2.15457002854605,
          -1.026232639161838,
          -2.074842229981729,
          0.5282231684733272,
          -1.7754258347818435,
          -2.807477112613501,
          0.3941662986563881,
          -1.8230941616021874,
          3.894530987745452,
          3.2798773526941174,
          1.0656460673463304,
          -3.3712278877989394,
          -3.500085024925691,
          -0.9906731867032672,
          -3.1219458031108305,
          -2.4745733486338843,
          -6.003276419352607,
          -3.075306297499616,
          -3.1443734573483084,
          -3.459343293571182,
          -1.3411230506581167,
          -1.9019074198795147,
          0.5771549982160733,
          -0.8241155771590611,
          -1.48486245134217,
          0.05514605076245238,
          -2.3922380035198154,
          -4.3215229691844455,
          -0.03570181182049814,
          -0.3485359359655948,
          1.121973955512212,
          -0.2692216354814355,
          -1.5770528481755535,
          -0.9685929572162281,
          -5.242623142032501,
          -1.3325721867692453,
          5.108005449694302,
          -3.7032540788314496,
          0.29662905801562317,
          -3.9451682347741333,
          -1.390109700356401,
          -6.723414982758076,
          -3.655469135740889,
          1.1762428761909023,
          -1.9564409160757639,
          -3.8586071225383827,
          5.985295352576085,
          -1.3170679168890778,
          -0.1959557683901722,
          0.7674888383562772,
          -0.8604841485039384,
          2.0365474062765383,
          -1.078633508875932,
          -2.1059455884629537,
          -0.09102922974810346,
          3.0060641282336706,
          -0.8160005113849266,
          -0.99243889351875,
          0.4368608484293253,
          -1.4998247453595481,
          -2.210429949512594,
          -1.778358634278716,
          -4.049332425564425,
          -2.5288075800919696,
          -1.672884399129184,
          -7.775852790936668,
          1.2282966752569793,
          2.3052363195183263,
          -1.4894235595977499,
          -2.45203496365912,
          -1.2361532137709523,
          -1.0586862262526813,
          -2.019207835046621,
          3.3855607715398444,
          -5.495735727128725,
          2.8029272505947618,
          1.9416347433991348,
          -1.9436971807629375,
          -1.943709941836875,
          -2.3334289434654445,
          -3.459451928380364,
          -2.9414300946506833,
          -2.382203236084466,
          0.3807151535041328,
          3.482636654939331,
          -0.5738546875022505,
          -3.576817451167289,
          -3.584047864742275,
          -1.9022967077979431,
          1.6720101165346613
         ],
         "z": [
          -1.123166594910504,
          -0.5292933121353497,
          -0.5517475880908389,
          -3.2327901175754237,
          1.3897664626563728,
          -2.934876768367662,
          -1.6399131714325814,
          -0.8719474195698024,
          -3.1199857413566376,
          -4.341915624184286,
          -0.48883005882893693,
          -1.5264550882072054,
          5.730230256039504,
          1.7171715163568062,
          -2.8161153668639027,
          -3.125273764956768,
          -0.8025194777624831,
          -2.2703194759073098,
          -0.3147494129060613,
          -1.4665369189052442,
          -0.7524021459001654,
          -1.7131941364142396,
          -0.02901023959354926,
          -3.8945468473961364,
          2.581747494287094,
          -2.7616254940308584,
          0.14618714416851866,
          -0.3492391368544139,
          -3.001462765808931,
          -0.754300423162561,
          -2.5773839891933816,
          -3.493761741699142,
          -1.896962973745818,
          -1.5757685011941398,
          4.305573930275383,
          -2.7049185953202106,
          -1.180484159492125,
          -1.9047263345660252,
          2.141226845465003,
          -2.3107338381515063,
          -3.301931998842427,
          -1.6788423374097814,
          -3.078089287466207,
          0.8263931794744874,
          -1.3962198815031048,
          -0.7288090284542624,
          -1.943888377710861,
          -0.16624034493850548,
          -1.799845222295438,
          -1.4662494708577327,
          0.3073451341642436,
          -2.2101309179413287,
          -2.040955882308523,
          1.1119387045719207,
          0.0898274923695685,
          2.0058786805099347,
          0.038835578467561,
          2.682338226123006,
          0.14693142970391665,
          1.637375002327949,
          -1.7045359128307305,
          0.5893273339387515,
          -0.6057713095984725,
          0.579510229519751,
          -0.19991901626069153,
          -0.08271949444598774,
          -2.7153845570904656,
          0.5988135010094844,
          -2.6139361513834496,
          -1.9351071862200593,
          0.5674617088522351,
          0.728013431180954,
          6.328698598172322,
          -2.142724203373671,
          1.2549248563536501,
          -1.1706802665179865,
          -1.2620111049090244,
          -1.2097928764816965,
          -0.5621075112210835,
          -0.3805753740255851,
          3.6710002842803826,
          0.5558434310621414,
          -1.0281576934675254,
          1.446318175202371,
          3.0072372215064753,
          -1.5661438429654506,
          -0.6012613548909129,
          0.9806960777459333,
          1.1736471220780234,
          -0.3511864858246446,
          -2.1531443462797744,
          -1.0423355004530879,
          -0.6372395340847012,
          -3.1347154420619403,
          -1.5150954908375396,
          -2.5851693351391107,
          -2.2239785950725506,
          -0.32642182012876936,
          -0.9427628176476841,
          -0.21818685930009668,
          1.3194782716452735,
          2.4663175965998336,
          -1.238683747134694,
          -3.8383207278372877,
          -0.9752716833584966,
          0.22128004596388476,
          -2.2704041605043694,
          -2.2707621435443714,
          0.4443824111507443,
          2.7440184837359847,
          10.112424378419885,
          7.0920749339405145,
          0.20637984494618372,
          -1.7866326716685517,
          0.9138788613489223,
          -0.006840861215241731,
          -2.6285994609225716,
          -2.47405098010721,
          -2.8960975853147355,
          -0.20545375099804922,
          0.04696842676438129,
          1.3718814149381031,
          -1.1089437807391556,
          0.8986357421191769,
          1.0883874693138569,
          -1.2799871559024405,
          -1.6726318720133686,
          -1.7561937025586365,
          -1.0046981523514669,
          0.47984978491358304,
          -0.833853467060498,
          2.903698571753305,
          -3.515589026473094,
          -1.7667775982513318,
          0.18248390360985928,
          2.554386957409055,
          -1.063056032784046,
          -1.9911348129127666,
          0.9893775863920944,
          1.4819596111918834,
          -0.11572148022779674,
          0.3069207167800006,
          -1.4570534697035478,
          -1.7442420615737486,
          -1.9946997098786456,
          1.983963250385233,
          0.3613398289639287,
          2.0129174843205355,
          -1.6764913093072913,
          0.3166851503883268,
          -2.8410671844859285,
          -1.0647506982910675,
          1.7751587219937606,
          -1.7225153149021564,
          1.360728293420339,
          -0.29127244457112256,
          0.31695583877891953,
          0.8709773130570371,
          0.5211406090410288,
          -0.8916940278490659,
          0.8674849484539378,
          -0.01716969234310086,
          2.7342368164261277,
          1.485664826098589,
          -0.15570221793999883,
          -1.590018378341899,
          -0.8287753283879138,
          -1.0225291683164817,
          -4.880360984107346,
          0.9957543010236493,
          3.757032418304748,
          -0.8879749350024821,
          -2.1536500194860797,
          -3.182081878403081,
          -1.179623931897269,
          1.4329171315847926,
          1.7112013653407518,
          -1.7540716794612763,
          -0.5187552867534572,
          1.4423192378039293,
          -2.680782142624347,
          0.5914534604007586,
          -1.699919325280388,
          -1.7931537302650464,
          -0.19250581067049258,
          0.7982024395023511,
          0.8568264650188904,
          6.235416067544783,
          1.7215875078802632,
          0.027546328624829506,
          -1.2537510538101557,
          -1.9977098701882587,
          1.2873549695955209,
          0.5219532835580079,
          -0.7093697279652328,
          -0.7530763213320831,
          1.910925515414723,
          -0.5074333791081983,
          -2.285604090773788,
          -0.2752361146910087,
          -0.9605642850291722,
          -1.2019321374082685,
          -0.17905734867358544,
          1.6594855325180053,
          -0.42227745240785597,
          -0.44313444125895074,
          -3.262791784612263,
          0.8970895269962882,
          2.4594863325808483,
          2.0884763513036275,
          0.562730728842946,
          -1.8770288703568891
         ]
        },
        {
         "marker": {
          "color": "rgba(55, 128, 191, 1.0)",
          "line": {
           "width": 1.3
          },
          "opacity": 0.8,
          "size": 12,
          "symbol": "circle"
         },
         "mode": "markers",
         "name": "benign",
         "textfont": {
          "color": "#4D5663"
         },
         "type": "scatter3d",
         "x": [
          -1.2370633568803777,
          -1.5781612351097327,
          -3.5573363732028636,
          -3.749313395719639,
          -4.581936672068142,
          -2.1364452776781895,
          -1.5674789970987537,
          -3.5429055574265504,
          -3.157814049879452,
          -3.4504885432465753,
          -2.8581584399663376,
          -3.721458993055364,
          -4.1359629434311165,
          -2.3858356633560467,
          -2.578883252589542,
          -2.314132248958277,
          -2.7859247565251737,
          -3.5186483394291628,
          4.3300026491307335,
          -3.2612794728721064,
          -0.30785577073092396,
          -2.6299766387315495,
          -0.8345178821796148,
          -2.021577658723384,
          -1.638384937425859,
          1.1674616110479377,
          -2.174464309875076,
          -0.9341581041391501,
          1.2596046468734632,
          -1.588263972359001,
          -2.8474315864523283,
          -1.9649501132992233,
          -2.592082827650599,
          -3.9043381500922214,
          -2.8182312128712663,
          -4.555028840507173,
          -3.4481835410807067,
          -2.115960264169279,
          -2.6913522052774015,
          -0.7492713565104957,
          -3.159006037377599,
          -2.228679813223508,
          -2.492831035491838,
          -0.10335042596391397,
          3.5912941189822494,
          -1.34894868279756,
          -2.510117675352734,
          -2.046029572823976,
          -2.0970691693757506,
          -2.965999206716363,
          -0.770743677520327,
          -2.202515523831715,
          -3.143412245753109,
          1.4088683632033814,
          -1.8774673638546218,
          -0.7091148316653959,
          -2.6007895041706632,
          -3.258007359668045,
          -1.992034722563496,
          -5.015008690100216,
          -2.4559688108833893,
          -1.8372816693373246,
          -4.346489712337865,
          -0.7328129164292492,
          0.39309866385964864,
          -0.4123278127397504,
          -3.049924940661075,
          -1.4425637319989881,
          0.08318610275282123,
          7.093306714572961,
          -3.7434045429732743,
          -0.9691728142418748,
          -2.418719908025105,
          -0.7516030057883647,
          -3.654646528321913,
          -4.680211575822131,
          -0.5977817668067992,
          -1.3250313470992794,
          -2.99740320732709,
          -4.3867327211023,
          -1.9777014399717783,
          -2.5148764189305277,
          -3.483986297674485,
          -4.658729578205555,
          -5.351618114868053,
          1.1708977788428203,
          -4.9757020620851655,
          -4.064025658572087,
          -2.659359615409488,
          -3.8890655273062706,
          -2.835890917877718,
          -3.310283620991255,
          -3.3573044029009798,
          -1.7177351758413026,
          -5.565735898689483,
          -2.819038509581178,
          -1.473431369252432,
          -0.7811899669184471,
          -3.4548953863100547,
          0.3144382261215529,
          -2.0591919425419225,
          -2.99871052835461,
          -0.3887562988664519,
          -2.7569329913421154,
          -2.3735018020785814,
          -0.9671903119548241,
          -2.975798787878244,
          -2.4783595122364144,
          -0.8260392926179514,
          -3.894697328514395,
          -0.3895780903758137,
          -1.4573213567020362,
          -4.01914024075364,
          -3.676413293150854,
          -4.036607361207513,
          -2.3342333502542294,
          -0.6817688659341431,
          -2.2277205188863434,
          -4.477584655664853,
          1.3226214187059355,
          -1.8500898604640839,
          -2.2813180989703157,
          -3.228770118254795,
          1.0259007872655777,
          -2.5825558372861113,
          -2.4858832255635743,
          -3.0324811407803427,
          -1.4646759335916937,
          -2.012152428587715,
          -2.2843402525257748,
          -0.7397430860000179,
          -4.506562510525282,
          -3.158754301355338,
          -3.6391359668982797,
          -1.276583379242473,
          -4.346014054574744,
          -3.492426037328464,
          -1.8665488538459298,
          -2.470722684518318,
          -1.3726850236244073,
          -4.138882573397055,
          -0.6869402913155234,
          -4.3121295826062855,
          0.4033094214084452,
          -3.003605795185616,
          3.1340082046443,
          -0.41783686684944576,
          -1.4202231348987742,
          -2.8705883477740004,
          -3.3658457042075973,
          -3.315000154875949,
          -4.76971015961176,
          -2.7870960093158024,
          -3.3938417713366356,
          -1.455330517897214,
          -3.578835403375468,
          -3.0570326420118548,
          -3.0744358315405798,
          -3.853539733432699,
          -5.3902563930331855,
          -4.657682334550129,
          -4.0275423882265455,
          -3.347821941482075,
          -3.299842011465863,
          -2.1364041424283484,
          -4.038017141801804,
          -3.765414553086997,
          -4.871239383571254,
          -4.747248516360186,
          1.5729311411756057,
          -4.026620252409224,
          -1.2948661700496613,
          -1.8103805591432247,
          -3.145650188582283,
          -2.887268058512708,
          -3.1496539839907003,
          -4.628379482862972,
          -0.5276966175386937,
          -3.213500980762708,
          -4.386422966533823,
          -3.810017869687635,
          -2.3932759641954617,
          -3.0676951407110984,
          0.2953131831475291,
          -1.9389694968786484,
          -2.0771789211739033,
          -2.176916879644998,
          -2.431551454983317,
          -3.36796577875774,
          -1.206597790258403,
          -3.32607924843198,
          -1.9287954028262349,
          -4.041835089721813,
          -3.0121949700315085,
          -0.9826485811642675,
          0.3578938623480351,
          -3.1939178654629314,
          -2.993233300847497,
          -3.193914150228487,
          -4.591961853623036,
          -2.4859161547444,
          -2.3986653463191043,
          -0.7796151999810532,
          -3.13998842581825,
          -2.2237757456809235,
          -2.4996363741496754,
          -2.6149483073803275,
          -0.09610811641299427,
          2.044856935047713,
          -3.06674952747343,
          -1.6035864435479363,
          -0.92556660326869,
          -3.2883495940167506,
          -1.5548521492221326,
          -0.3987799179840666,
          -2.30056782157617,
          -2.0588194558117245,
          -3.42451805522602,
          -0.47240655194156983,
          -3.6433802386446756,
          -3.594689343864818,
          -2.0103794140351727,
          -2.920833494662678,
          -0.5007378004098479,
          -1.911498575059947,
          -3.7850992276758895,
          -2.708393968523011,
          -3.430770691491924,
          -2.001388466560538,
          -2.473293094403106,
          -3.6472577462388136,
          -2.3461868507803976,
          -1.142996926599901,
          -1.350857303518735,
          -1.9693236051765382,
          -2.931187055426735,
          -2.926374386272589,
          -3.99618827732196,
          0.15513805943834033,
          -1.9296217305322716,
          -2.6223386016913235,
          -2.9218778043105837,
          -3.3419448040846795,
          -2.014915033416932,
          1.9884621055031897,
          -1.6696039307622232,
          -0.3711781135225273,
          -1.848959929788096,
          -4.703042201849405,
          -1.283187150878811,
          -2.31424681941363,
          -4.659085176125173,
          -3.9434733817721535,
          -0.9158035194663339,
          -2.1949843011898276,
          -2.240876053580152,
          -2.125180436750845,
          -2.615317411269913,
          -3.210967975488205,
          -0.3067503985788195,
          -3.4547183723026134,
          -3.9005268480681474,
          -1.2572515706321707,
          -1.5572194126384247,
          -1.2492580968113969,
          -1.0774513298199,
          -2.2170923055143783,
          -1.173830646804813,
          -2.83630144424251,
          -1.8570858988061087,
          -1.3286143731243336,
          -2.8027713569485346,
          -3.174568796950294,
          -4.087077360866839,
          -2.5601150181268046,
          -2.9688887958736645,
          -2.7574304509037297,
          1.3703398749820694,
          -0.4176644926685872,
          -3.8383986227606637,
          0.6454786476643981,
          -2.683846400917217,
          -2.0416640521597813,
          -1.399296350132809,
          -3.5364152954568304,
          -1.9905294469855568,
          -1.9981853672832237,
          -0.5206581124457763,
          -3.1723704882479042,
          -2.202710189282007,
          -2.9854846904739603,
          -2.4810551072774447,
          -1.2721114611582414,
          -2.235156888147806,
          -0.05618310441784885,
          2.317390606253574,
          -2.284331261166002,
          -1.726310917728176,
          -2.894310660950673,
          -1.6545218458784894,
          -4.064270597377,
          -2.7933306574479984,
          -1.4749199375967852,
          -0.22939463700346457,
          -2.5532584075874896,
          -0.6006161133721544,
          -1.4087712145108502,
          1.2988665486244069,
          1.0766932762796149,
          -1.2497605250670483,
          -1.2569284052275185,
          -1.1665352143477254,
          -1.8876392410101024,
          -2.7674357029001624,
          -1.1315768911143522,
          -2.3336707369298195,
          -0.19987058024324766,
          -1.176025913472885,
          -1.2926365392640315,
          -4.429456370952537,
          -0.6198387401560703,
          -3.252315768399529,
          -3.3529270533517734,
          -0.8598029861807908,
          -3.1566219687327015,
          0.34652811310265236,
          -2.461406650990078,
          -1.5301007214384805,
          -1.773585066369272,
          -2.68044162394979,
          -2.1363512287379667,
          0.34312338287437305,
          -4.1970799858058285,
          -1.1428318646509956,
          -1.6654751534026835,
          1.0117124954566452,
          -1.3009297117582386,
          -2.373428725010696,
          -1.6658710118298146,
          -1.9276781926266917,
          -4.2372166180700255,
          -2.67787072066689,
          -3.8364978515465564,
          -2.5514402959118865,
          -4.694923445133873,
          -2.025037164357263,
          -2.895948205443647,
          -3.502201040258104,
          -2.153903667529148,
          -2.055084067806769,
          -3.8772895796388003,
          -4.063862114763818,
          -0.09866733292000784,
          -1.0893761899793724,
          -0.4817709648667881,
          -4.87030951822708,
          -5.475243302012599
         ],
         "y": [
          -0.18821495664397225,
          0.5728082030969428,
          1.662949892985432,
          -1.413473124754824,
          1.4842203143235688,
          0.09582962172872428,
          -1.2084332174502301,
          -1.282495579684438,
          -1.688958604951368,
          -0.49821872285475133,
          0.15272313307203944,
          -1.7876416439104408,
          2.403792474923562,
          2.757658136076849,
          3.138671943158603,
          3.267989666379088,
          2.3106487080356315,
          -0.6583094768414599,
          9.202525686287391,
          -0.9378381178014343,
          7.387812184468455,
          -0.6973093633671239,
          1.9656048850746188,
          -0.2548998248316058,
          1.7159491166312306,
          2.514515850464293,
          0.4968779951613991,
          0.9277014724290447,
          1.0155770849693262,
          -1.6196568226847723,
          -2.893647606184503,
          -0.9651569763791313,
          0.21363392507759005,
          1.1900666315530954,
          0.36788397279231905,
          3.5287860205794592,
          -1.4246224602669835,
          1.8493736088728836,
          1.4200617502589605,
          1.7976385221028321,
          -1.0357494276605266,
          0.6674106298160609,
          2.5986862646223328,
          2.2801435230316893,
          3.926333146172545,
          3.556225099176995,
          3.2513194975906616,
          0.3048848783811539,
          3.6670958833153433,
          0.3715064850775642,
          -0.06410922042383667,
          -0.735605228778907,
          -1.87740902127593,
          1.3049294122630881,
          1.4232306515706135,
          -1.5682323256249697,
          -0.4823354630435108,
          -0.4183213996719178,
          1.329355185532565,
          0.5746999826988649,
          0.8984552990743444,
          -0.09102677072498855,
          -0.8935722627573541,
          3.7021823922779067,
          1.083068065102137,
          -0.38963131900582776,
          -2.237784515536874,
          0.3058704620014835,
          7.1503597948301145,
          12.573194216669055,
          0.2505015260684529,
          0.9449442983316698,
          0.005552409914206191,
          -3.0706486497100247,
          -0.6746487401202325,
          -1.1038572541059453,
          1.7856508809441758,
          1.4692940266236825,
          -2.7388610456899825,
          0.006872281328632546,
          -1.8427794097621053,
          0.11425229986759766,
          1.619691971495928,
          -0.2229148072902245,
          1.0267578561575867,
          7.014486580358729,
          -3.386204869843341,
          -1.246166179606903,
          0.5399358030609402,
          0.8160717143363618,
          -0.3987297030607107,
          0.1557412029244396,
          -1.103732412668149,
          -0.5431655364121488,
          -0.4778475879500997,
          -0.9701105681708645,
          0.11689025713337423,
          0.6528492592319673,
          1.3069387293472325,
          2.077560723470898,
          -2.4727877879953137,
          -0.3967780245294915,
          2.2767978988068807,
          1.086834688445676,
          -0.7334025602579253,
          0.438438192885204,
          1.8109737738539664,
          -1.4185764514690473,
          -1.250247467568756,
          0.5385707500295395,
          -0.6144154648906743,
          -0.20172676076538432,
          -1.354247375249605,
          -1.2916290614336599,
          1.1625460900376068,
          -1.3489797312481255,
          -1.135991129960972,
          -1.2149996851055682,
          -1.7411293645083434,
          4.7894765880149235,
          -1.5841281398029379,
          2.0776859706955695,
          -1.1720734792580658,
          2.361261955300004,
          0.7292131143290635,
          0.46059640408464453,
          -0.6494687997510479,
          1.6866318185949651,
          -1.1034865554617772,
          0.009493653754193976,
          3.1525206166150617,
          -3.1692725927635896,
          0.4103017929242,
          1.5895870551824154,
          0.849052984561282,
          -0.3219780458550451,
          -2.6340823991438684,
          -0.9020642045535917,
          -0.13802628662553346,
          0.005805460578958976,
          -1.376508235775816,
          1.695009621899771,
          -1.978486137609135,
          3.723434003215116,
          0.354160222715895,
          4.2734595817874315,
          -0.8085765725218343,
          1.3939781066895318,
          -0.26864450967255005,
          -0.8076006103659663,
          -1.4421762278422863,
          -0.5429618628812214,
          -2.533034006453212,
          0.7539639514777982,
          0.5919428677947994,
          0.8915829894396763,
          -0.17921338171610895,
          -0.30605843603251065,
          -1.52472641690493,
          0.5562554816338295,
          -3.0653874318345213,
          -2.5429070400166873,
          -0.0685630514094504,
          -3.1387093941078783,
          -0.004392846276247558,
          -0.2406980520477986,
          4.39820048715605,
          -2.3392147845112348,
          -1.7984019752614384,
          6.509099290750588,
          -1.4022064708188187,
          3.47080863759527,
          0.3962073104536449,
          -0.7425265397050624,
          -0.46473161569038657,
          -1.7712483911965293,
          -1.835618367492476,
          1.265871627793207,
          1.1034431501955537,
          -0.7611037286913609,
          -0.9099185591067931,
          0.9900307740696679,
          1.1358375718751708,
          0.22693503970010404,
          2.5449881105790055,
          1.8065194809399596,
          0.9589112610709055,
          3.447203866388632,
          -0.5629289013218957,
          -1.3170443463073895,
          0.4751715725921251,
          1.4614698168992692,
          -1.3569174646197133,
          0.24375997173059127,
          0.7972523908131757,
          2.1278386372578955,
          -1.8491520742846936,
          1.6313921932147881,
          0.5793394351348484,
          -2.761127093994436,
          -1.1889393938356596,
          -0.25074478638911557,
          -2.124343419613144,
          -1.488022159862772,
          -0.3571607075108173,
          -2.018535625428574,
          -1.1024744550886147,
          -0.12984758760336548,
          6.426819824828568,
          -2.182095702073271,
          0.2925962268001973,
          2.302481431876997,
          0.20131133409947097,
          0.9798577154587179,
          2.1612127042197997,
          -0.9320775767047704,
          0.32043514470730455,
          -2.445518411728635,
          3.702829441415812,
          0.7868599176056573,
          2.6050872251774537,
          0.4296895698100664,
          -1.7004724801821873,
          0.10673146900164457,
          -0.6513938759535449,
          -0.32614637163118804,
          -0.21966573197254552,
          -0.9926100270162496,
          -0.2933264574251125,
          -0.33504702250589163,
          -1.2413651304144173,
          0.6827413121271615,
          -1.9621714920187587,
          0.36957390765641757,
          -0.17584850409354702,
          -0.4948562294155163,
          0.3773322611270797,
          0.9598560871384222,
          -0.4380082276825646,
          0.8924666994024311,
          2.5021016173475505,
          -0.00921269009463746,
          -0.022224726004547612,
          0.7784521318557232,
          2.316048057013336,
          0.8623188577148614,
          0.11361265825346589,
          2.5412296476325573,
          -0.4323024389402906,
          2.5509093137155725,
          0.4020314808003542,
          -0.7822987656921372,
          -2.030016285939771,
          2.479013133771847,
          -1.8053532322350714,
          -0.4545895129500462,
          -1.1947969171616992,
          -1.8320604309605935,
          -2.2351427099033216,
          2.184998829495747,
          -2.1364615418344766,
          0.7307759698486374,
          1.067691502585308,
          -1.0379271026726216,
          -1.588838785697815,
          1.8036181606342263,
          0.029891289958615716,
          -0.47483950498610555,
          -1.0181258093934473,
          -1.571393121429384,
          0.7770956663975864,
          -1.666301628981928,
          -2.075733613671661,
          -0.4847100817861515,
          -2.4940454441088216,
          -0.06884713743204213,
          -1.7939187720490635,
          2.1100113630911195,
          0.11651970055371492,
          0.8991786417703818,
          3.426011415879813,
          1.4435555266963926,
          -0.9032559285544604,
          -1.7722262449446946,
          -1.2468541524031322,
          1.8994625629080808,
          -0.20637113182445727,
          -0.9733678059695535,
          -2.089052298221475,
          1.2860393260060703,
          -0.6733392388765094,
          -2.3639587607078587,
          0.5098338444194463,
          -1.2987044912292605,
          -0.22738338947321451,
          4.389134336546518,
          -2.4668407464077173,
          0.9981778365258447,
          -0.9779443209905936,
          -4.555664123434921,
          -0.5609542345839212,
          -1.0778881332271502,
          -1.5910942017415683,
          1.5159034166424696,
          -0.763900485747894,
          -0.8384546681383978,
          1.5057705963160972,
          7.729852807892925,
          8.294775429395495,
          1.5956838642609728,
          4.117186668771324,
          -1.6656937401700578,
          1.672191727240601,
          -2.1610487935233493,
          -1.411001953984722,
          0.7901466114114072,
          1.0763600075554622,
          1.011370185625044,
          4.96422470279609,
          -0.7860360390016863,
          0.6363492615493195,
          1.2859251549057054,
          2.673300591837762,
          0.09684852872352645,
          -0.8715426223589199,
          1.5412252790686072,
          0.6008479718043193,
          0.4052177851231743,
          0.8042100224034764,
          -1.4847089003983909,
          1.5185806439324367,
          3.534481054785558,
          2.3673922651629034,
          5.599458473453872,
          2.3896181316216474,
          1.09238965790081,
          -1.8214153085975229,
          -1.6815762380572958,
          -0.2139627380075931,
          -1.1377399077866337,
          0.1842725010738016,
          2.315792816993035,
          0.4962499202633383,
          0.2283299566784127,
          -0.7674779450432598,
          1.2612419074493717,
          -1.4516357668893887,
          1.800832482985401,
          -0.8300688145639343,
          1.6164592615408786,
          1.084254752472583,
          0.12216843566820651,
          -0.2135598302568082,
          1.292847895458114,
          -0.17801969093814407,
          -2.131106103251856,
          -0.6706368083295731
         ],
         "z": [
          -0.593283589686217,
          -1.8014463387726174,
          0.45118701626837227,
          1.7323075183734091,
          0.04207447200409478,
          -1.492411401957677,
          -0.3691592402915289,
          1.018210888923537,
          -0.49629409020951354,
          -0.15251829066518302,
          0.42893483870235444,
          1.2799330952243309,
          -1.2429588466347155,
          1.2140858978723155,
          1.4002809452541798,
          2.796223740120606,
          0.47272512652121385,
          0.5913746953015042,
          1.4929627515217463,
          0.20513013329986562,
          3.819086313004554,
          -0.5839414280984034,
          0.7904333926289882,
          -0.647871657413236,
          0.434206332836382,
          -1.905718721052387,
          -0.9490914056300466,
          -0.040163968149053125,
          -0.08059226150370324,
          0.30999942776417344,
          0.5279885482184155,
          -0.0812076630257369,
          1.035611317562311,
          1.551981109605168,
          -1.3514359620655783,
          -0.21526388427575088,
          -0.08872416934515356,
          -0.556673805274839,
          0.9691511590715268,
          -0.5683656112203994,
          -1.4906842035225534,
          -1.0915606081717288,
          1.669725413710164,
          2.109562235048209,
          2.0470063861623,
          1.7321911825048835,
          -1.6876246536348447,
          -0.5338382487808402,
          3.6322003906749014,
          -2.066533041068063,
          -1.1344088126194938,
          0.267080165489026,
          -0.6703688572007793,
          0.641429004947829,
          -1.0708119015673396,
          -0.669994160025396,
          1.8723728922506462,
          -0.6918053787604737,
          1.135245059587796,
          -0.842437993008532,
          0.35313371811004424,
          -1.4452810832788425,
          0.6392561751742791,
          0.6585053656533205,
          2.24760559433418,
          -1.0457704758263708,
          -0.4694527235669935,
          0.5515483226517216,
          -0.06001014518104081,
          7.358707595483713,
          -0.0973832813107632,
          -0.8908114078137443,
          -0.7983805044134837,
          1.449181990001397,
          -0.9069859027122433,
          -0.2573084058043819,
          1.48173620489214,
          0.8484214453783634,
          -0.1611835411109015,
          -0.9481082384270836,
          -0.2773593434837831,
          -0.4966227224171629,
          2.6754689578082025,
          1.5593589618202985,
          0.3249858443442819,
          4.2718620698402265,
          0.4398383223958165,
          0.5744776288498261,
          1.7070147725740314,
          1.0157174182300144,
          -0.34744543388051974,
          0.5414792510167371,
          0.1520902369164122,
          3.2983749191517644,
          4.127462395863429,
          -0.3825914739990285,
          -0.2146678183559897,
          -0.6436569719542977,
          -0.029264253382952965,
          -2.0833120666184226,
          -1.4617188218463315,
          -0.5964657956937259,
          0.6273322088257762,
          1.7072382660026872,
          -1.526027363330996,
          -1.4476958316190094,
          -0.22343534873749407,
          -0.31653341132349755,
          0.26796094811615295,
          -0.8815585093420577,
          -1.352869051637113,
          -1.098878856869824,
          -0.3604724783678003,
          0.42461028584968935,
          0.18974714956820637,
          0.2326870450684887,
          1.2336664953439078,
          -0.1924136938771433,
          -0.8882071665286623,
          -0.6625349631870141,
          1.2639176231011007,
          2.4306486972701515,
          0.2646643052402409,
          -1.6168851237209245,
          -0.5481427816790791,
          -0.5989202698725302,
          0.310682676656462,
          1.1699060351482278,
          1.3380241665062385,
          -0.4504389826148253,
          1.46985828158639,
          -0.18806177823937292,
          -1.1088172680126114,
          0.7162794865977412,
          3.07006826645042,
          0.38847512624795233,
          -0.07218758934807487,
          -0.8711684912774781,
          1.7948844316355774,
          1.549289165943407,
          0.8780487715868555,
          1.0262127521684365,
          -0.2513066515676552,
          4.586468960602298,
          1.2340148094199024,
          5.8662805098885356,
          -1.093291524097498,
          -0.83698706639126,
          -0.4689872692893869,
          -0.8070792470501515,
          -0.5836325554151072,
          0.8938678920780976,
          -0.8840345388387927,
          1.771793327547127,
          1.1463403856690908,
          0.2614873136372079,
          0.6217736191798908,
          1.259253635428601,
          -1.144509430197191,
          0.5600691570562576,
          -0.0760090384095359,
          0.3532172762667307,
          -0.2701934472960461,
          0.1488923700622337,
          -0.05513886193417003,
          -1.3281266676056094,
          3.9502076304080065,
          -0.16829471494370427,
          0.16972020556926146,
          2.1671582872518327,
          3.18649959462242,
          1.109527922644023,
          -1.2303338160565915,
          -0.8623514292805433,
          -0.4757430028128776,
          -0.03583347821885946,
          0.06423074413213095,
          -0.9204409512923242,
          1.6119814869600946,
          -0.40059739856380866,
          0.4431675026867766,
          -0.7575101187531736,
          0.37462267883662265,
          -1.0894164738996235,
          -1.0014236125465987,
          -1.1670797386454645,
          -0.23426480127561916,
          3.456944814681597,
          -0.19257380273146374,
          -0.9307411232269855,
          -0.8982860832113214,
          -0.10064178824837901,
          0.5383413845415573,
          1.9837328822195925,
          2.3694210270316027,
          0.708209247608179,
          0.09939829911129129,
          2.556717424381352,
          0.4897639244624825,
          0.9805427768452968,
          0.3487772011988506,
          -0.3271376746208665,
          0.3207891747604902,
          -1.1988784080208088,
          -1.1016822029046005,
          -0.731274551229228,
          -1.2407358315952153,
          -1.6714643136544152,
          1.274120655595325,
          -0.27906277439001087,
          -1.5862252351128943,
          -1.5961117834787704,
          -0.6277563796570962,
          1.1965592702843661,
          -0.9456045287007874,
          -1.1299529617015878,
          -0.12245843318348595,
          0.045048743363502064,
          1.9537849973462476,
          -1.16214574719598,
          1.8520299840092138,
          -0.10408846647893558,
          0.2957270368784804,
          -1.0287477797033013,
          1.4502886649988498,
          -1.0580803440103081,
          -0.3145043672460569,
          -0.7316942792379879,
          0.6192041028378772,
          -1.4823618877868248,
          1.3866243415211303,
          1.1327336917435398,
          -1.2407196377144074,
          2.486675888419191,
          0.42073155159856945,
          -1.017070901120486,
          -0.8867936871849801,
          0.20440402155660906,
          -0.46144566465806547,
          0.04234508939597708,
          2.4349994826388475,
          -0.9013038104078415,
          0.5033013652861755,
          0.12557879994737525,
          1.23630400808279,
          -1.010305971583146,
          -0.9983635693162664,
          2.005347549283567,
          0.005304767697711335,
          -0.08386023370875954,
          0.2746233286225224,
          0.19212157086829418,
          0.6917357715787944,
          0.3626068508176431,
          -0.4351091977819358,
          -0.465527666388942,
          0.4903717792606709,
          0.764329614878748,
          -0.16622464401974657,
          0.039286085121160524,
          0.19716290456568947,
          2.1360711187577657,
          0.259474782248997,
          -1.301244957279179,
          -0.3264133000471415,
          1.7810415444716008,
          0.6364602163892085,
          -0.48157088081175065,
          -1.4866301145096463,
          0.826482657702255,
          1.2567584343950964,
          -0.19401811531792995,
          0.0749004997950168,
          0.6313639328898323,
          0.17031272294847166,
          -0.77841161748599,
          -0.757814255617806,
          -0.8537196900574977,
          -0.5361424511407141,
          0.7005636840591543,
          0.6082847397184455,
          0.33940342382322697,
          2.843241476773193,
          -1.4795615366192423,
          3.3854111779923874,
          -2.0309975976343644,
          -1.6413248832873064,
          -0.3241352239187206,
          -0.9788057316487387,
          -0.8873989427874881,
          -0.5904896994927492,
          -0.43261456763330924,
          -2.238991826816756,
          -0.901436812566012,
          -2.2555155200149533,
          1.7784111570026608,
          -0.8211880969315786,
          -0.08023837023236305,
          -0.8056443160537041,
          0.7523230182159603,
          2.176684324765703,
          0.8445420972672677,
          0.3199914298575586,
          -2.2162830569166934,
          -1.6094031479184445,
          -0.6870421928336484,
          -0.3538958844569148,
          -0.6889144677561849,
          0.4341916701208409,
          -1.3564742241283916,
          -0.4127302618747406,
          -0.7378781755285537,
          0.11979718370211961,
          -0.021096104592479223,
          -0.56505266879063,
          -0.3500432628897515,
          -0.6731487069040207,
          -0.7117680180292258,
          0.3459269862032142,
          -0.47341923198109537,
          -0.48885161069235006,
          -0.21847674481028806,
          -1.7790873086092143,
          -2.814044508635117,
          -2.195714721961072,
          2.8464541253861997,
          -1.171465059045885,
          0.6044645599335375,
          -2.027917662823749,
          -1.741693402452864,
          0.17896540608939182,
          0.06966888038135394,
          1.3271440710286915,
          1.3010370877394393,
          1.50224967085159,
          -0.6326980461746778,
          0.3733072346422211,
          0.3845281425524346,
          -0.14807238442697312,
          0.4782026093712265,
          -0.3264182471620175,
          -0.053848419660308865,
          0.923239379070915,
          1.414177968149326,
          1.5439648188591417,
          0.5049263753969668,
          0.7805459015876682,
          2.766456282559343,
          0.5647968884402184,
          1.8389592351063202,
          1.8599442083116742,
          3.2387727001188065,
          0.3889297485954084,
          1.429378779799086,
          1.0321075998897713,
          3.4141889635638583,
          1.4904424435735666
         ]
        }
       ],
       "layout": {
        "legend": {
         "bgcolor": "#F5F6F9",
         "font": {
          "color": "#4D5663"
         }
        },
        "paper_bgcolor": "#F5F6F9",
        "plot_bgcolor": "#F5F6F9",
        "scene": {
         "xaxis": {
          "gridcolor": "#9499A3",
          "showgrid": true,
          "tickfont": {
           "color": "#4D5663"
          },
          "title": {
           "font": {
            "color": "#4D5663"
           },
           "text": "First Principal Component"
          },
          "zerolinecolor": "#9499A3"
         },
         "yaxis": {
          "gridcolor": "#9499A3",
          "showgrid": true,
          "tickfont": {
           "color": "#4D5663"
          },
          "title": {
           "font": {
            "color": "#4D5663"
           },
           "text": "Second Principal Component"
          },
          "zerolinecolor": "#9499A3"
         },
         "zaxis": {
          "gridcolor": "#9499A3",
          "showgrid": true,
          "tickfont": {
           "color": "#4D5663"
          },
          "title": {
           "font": {
            "color": "#4D5663"
           },
           "text": "Third Principal Component"
          },
          "zerolinecolor": "#9499A3"
         }
        },
        "template": {
         "data": {
          "bar": [
           {
            "error_x": {
             "color": "#2a3f5f"
            },
            "error_y": {
             "color": "#2a3f5f"
            },
            "marker": {
             "line": {
              "color": "#E5ECF6",
              "width": 0.5
             },
             "pattern": {
              "fillmode": "overlay",
              "size": 10,
              "solidity": 0.2
             }
            },
            "type": "bar"
           }
          ],
          "barpolar": [
           {
            "marker": {
             "line": {
              "color": "#E5ECF6",
              "width": 0.5
             },
             "pattern": {
              "fillmode": "overlay",
              "size": 10,
              "solidity": 0.2
             }
            },
            "type": "barpolar"
           }
          ],
          "carpet": [
           {
            "aaxis": {
             "endlinecolor": "#2a3f5f",
             "gridcolor": "white",
             "linecolor": "white",
             "minorgridcolor": "white",
             "startlinecolor": "#2a3f5f"
            },
            "baxis": {
             "endlinecolor": "#2a3f5f",
             "gridcolor": "white",
             "linecolor": "white",
             "minorgridcolor": "white",
             "startlinecolor": "#2a3f5f"
            },
            "type": "carpet"
           }
          ],
          "choropleth": [
           {
            "colorbar": {
             "outlinewidth": 0,
             "ticks": ""
            },
            "type": "choropleth"
           }
          ],
          "contour": [
           {
            "colorbar": {
             "outlinewidth": 0,
             "ticks": ""
            },
            "colorscale": [
             [
              0,
              "#0d0887"
             ],
             [
              0.1111111111111111,
              "#46039f"
             ],
             [
              0.2222222222222222,
              "#7201a8"
             ],
             [
              0.3333333333333333,
              "#9c179e"
             ],
             [
              0.4444444444444444,
              "#bd3786"
             ],
             [
              0.5555555555555556,
              "#d8576b"
             ],
             [
              0.6666666666666666,
              "#ed7953"
             ],
             [
              0.7777777777777778,
              "#fb9f3a"
             ],
             [
              0.8888888888888888,
              "#fdca26"
             ],
             [
              1,
              "#f0f921"
             ]
            ],
            "type": "contour"
           }
          ],
          "contourcarpet": [
           {
            "colorbar": {
             "outlinewidth": 0,
             "ticks": ""
            },
            "type": "contourcarpet"
           }
          ],
          "heatmap": [
           {
            "colorbar": {
             "outlinewidth": 0,
             "ticks": ""
            },
            "colorscale": [
             [
              0,
              "#0d0887"
             ],
             [
              0.1111111111111111,
              "#46039f"
             ],
             [
              0.2222222222222222,
              "#7201a8"
             ],
             [
              0.3333333333333333,
              "#9c179e"
             ],
             [
              0.4444444444444444,
              "#bd3786"
             ],
             [
              0.5555555555555556,
              "#d8576b"
             ],
             [
              0.6666666666666666,
              "#ed7953"
             ],
             [
              0.7777777777777778,
              "#fb9f3a"
             ],
             [
              0.8888888888888888,
              "#fdca26"
             ],
             [
              1,
              "#f0f921"
             ]
            ],
            "type": "heatmap"
           }
          ],
          "heatmapgl": [
           {
            "colorbar": {
             "outlinewidth": 0,
             "ticks": ""
            },
            "colorscale": [
             [
              0,
              "#0d0887"
             ],
             [
              0.1111111111111111,
              "#46039f"
             ],
             [
              0.2222222222222222,
              "#7201a8"
             ],
             [
              0.3333333333333333,
              "#9c179e"
             ],
             [
              0.4444444444444444,
              "#bd3786"
             ],
             [
              0.5555555555555556,
              "#d8576b"
             ],
             [
              0.6666666666666666,
              "#ed7953"
             ],
             [
              0.7777777777777778,
              "#fb9f3a"
             ],
             [
              0.8888888888888888,
              "#fdca26"
             ],
             [
              1,
              "#f0f921"
             ]
            ],
            "type": "heatmapgl"
           }
          ],
          "histogram": [
           {
            "marker": {
             "pattern": {
              "fillmode": "overlay",
              "size": 10,
              "solidity": 0.2
             }
            },
            "type": "histogram"
           }
          ],
          "histogram2d": [
           {
            "colorbar": {
             "outlinewidth": 0,
             "ticks": ""
            },
            "colorscale": [
             [
              0,
              "#0d0887"
             ],
             [
              0.1111111111111111,
              "#46039f"
             ],
             [
              0.2222222222222222,
              "#7201a8"
             ],
             [
              0.3333333333333333,
              "#9c179e"
             ],
             [
              0.4444444444444444,
              "#bd3786"
             ],
             [
              0.5555555555555556,
              "#d8576b"
             ],
             [
              0.6666666666666666,
              "#ed7953"
             ],
             [
              0.7777777777777778,
              "#fb9f3a"
             ],
             [
              0.8888888888888888,
              "#fdca26"
             ],
             [
              1,
              "#f0f921"
             ]
            ],
            "type": "histogram2d"
           }
          ],
          "histogram2dcontour": [
           {
            "colorbar": {
             "outlinewidth": 0,
             "ticks": ""
            },
            "colorscale": [
             [
              0,
              "#0d0887"
             ],
             [
              0.1111111111111111,
              "#46039f"
             ],
             [
              0.2222222222222222,
              "#7201a8"
             ],
             [
              0.3333333333333333,
              "#9c179e"
             ],
             [
              0.4444444444444444,
              "#bd3786"
             ],
             [
              0.5555555555555556,
              "#d8576b"
             ],
             [
              0.6666666666666666,
              "#ed7953"
             ],
             [
              0.7777777777777778,
              "#fb9f3a"
             ],
             [
              0.8888888888888888,
              "#fdca26"
             ],
             [
              1,
              "#f0f921"
             ]
            ],
            "type": "histogram2dcontour"
           }
          ],
          "mesh3d": [
           {
            "colorbar": {
             "outlinewidth": 0,
             "ticks": ""
            },
            "type": "mesh3d"
           }
          ],
          "parcoords": [
           {
            "line": {
             "colorbar": {
              "outlinewidth": 0,
              "ticks": ""
             }
            },
            "type": "parcoords"
           }
          ],
          "pie": [
           {
            "automargin": true,
            "type": "pie"
           }
          ],
          "scatter": [
           {
            "fillpattern": {
             "fillmode": "overlay",
             "size": 10,
             "solidity": 0.2
            },
            "type": "scatter"
           }
          ],
          "scatter3d": [
           {
            "line": {
             "colorbar": {
              "outlinewidth": 0,
              "ticks": ""
             }
            },
            "marker": {
             "colorbar": {
              "outlinewidth": 0,
              "ticks": ""
             }
            },
            "type": "scatter3d"
           }
          ],
          "scattercarpet": [
           {
            "marker": {
             "colorbar": {
              "outlinewidth": 0,
              "ticks": ""
             }
            },
            "type": "scattercarpet"
           }
          ],
          "scattergeo": [
           {
            "marker": {
             "colorbar": {
              "outlinewidth": 0,
              "ticks": ""
             }
            },
            "type": "scattergeo"
           }
          ],
          "scattergl": [
           {
            "marker": {
             "colorbar": {
              "outlinewidth": 0,
              "ticks": ""
             }
            },
            "type": "scattergl"
           }
          ],
          "scattermapbox": [
           {
            "marker": {
             "colorbar": {
              "outlinewidth": 0,
              "ticks": ""
             }
            },
            "type": "scattermapbox"
           }
          ],
          "scatterpolar": [
           {
            "marker": {
             "colorbar": {
              "outlinewidth": 0,
              "ticks": ""
             }
            },
            "type": "scatterpolar"
           }
          ],
          "scatterpolargl": [
           {
            "marker": {
             "colorbar": {
              "outlinewidth": 0,
              "ticks": ""
             }
            },
            "type": "scatterpolargl"
           }
          ],
          "scatterternary": [
           {
            "marker": {
             "colorbar": {
              "outlinewidth": 0,
              "ticks": ""
             }
            },
            "type": "scatterternary"
           }
          ],
          "surface": [
           {
            "colorbar": {
             "outlinewidth": 0,
             "ticks": ""
            },
            "colorscale": [
             [
              0,
              "#0d0887"
             ],
             [
              0.1111111111111111,
              "#46039f"
             ],
             [
              0.2222222222222222,
              "#7201a8"
             ],
             [
              0.3333333333333333,
              "#9c179e"
             ],
             [
              0.4444444444444444,
              "#bd3786"
             ],
             [
              0.5555555555555556,
              "#d8576b"
             ],
             [
              0.6666666666666666,
              "#ed7953"
             ],
             [
              0.7777777777777778,
              "#fb9f3a"
             ],
             [
              0.8888888888888888,
              "#fdca26"
             ],
             [
              1,
              "#f0f921"
             ]
            ],
            "type": "surface"
           }
          ],
          "table": [
           {
            "cells": {
             "fill": {
              "color": "#EBF0F8"
             },
             "line": {
              "color": "white"
             }
            },
            "header": {
             "fill": {
              "color": "#C8D4E3"
             },
             "line": {
              "color": "white"
             }
            },
            "type": "table"
           }
          ]
         },
         "layout": {
          "annotationdefaults": {
           "arrowcolor": "#2a3f5f",
           "arrowhead": 0,
           "arrowwidth": 1
          },
          "autotypenumbers": "strict",
          "coloraxis": {
           "colorbar": {
            "outlinewidth": 0,
            "ticks": ""
           }
          },
          "colorscale": {
           "diverging": [
            [
             0,
             "#8e0152"
            ],
            [
             0.1,
             "#c51b7d"
            ],
            [
             0.2,
             "#de77ae"
            ],
            [
             0.3,
             "#f1b6da"
            ],
            [
             0.4,
             "#fde0ef"
            ],
            [
             0.5,
             "#f7f7f7"
            ],
            [
             0.6,
             "#e6f5d0"
            ],
            [
             0.7,
             "#b8e186"
            ],
            [
             0.8,
             "#7fbc41"
            ],
            [
             0.9,
             "#4d9221"
            ],
            [
             1,
             "#276419"
            ]
           ],
           "sequential": [
            [
             0,
             "#0d0887"
            ],
            [
             0.1111111111111111,
             "#46039f"
            ],
            [
             0.2222222222222222,
             "#7201a8"
            ],
            [
             0.3333333333333333,
             "#9c179e"
            ],
            [
             0.4444444444444444,
             "#bd3786"
            ],
            [
             0.5555555555555556,
             "#d8576b"
            ],
            [
             0.6666666666666666,
             "#ed7953"
            ],
            [
             0.7777777777777778,
             "#fb9f3a"
            ],
            [
             0.8888888888888888,
             "#fdca26"
            ],
            [
             1,
             "#f0f921"
            ]
           ],
           "sequentialminus": [
            [
             0,
             "#0d0887"
            ],
            [
             0.1111111111111111,
             "#46039f"
            ],
            [
             0.2222222222222222,
             "#7201a8"
            ],
            [
             0.3333333333333333,
             "#9c179e"
            ],
            [
             0.4444444444444444,
             "#bd3786"
            ],
            [
             0.5555555555555556,
             "#d8576b"
            ],
            [
             0.6666666666666666,
             "#ed7953"
            ],
            [
             0.7777777777777778,
             "#fb9f3a"
            ],
            [
             0.8888888888888888,
             "#fdca26"
            ],
            [
             1,
             "#f0f921"
            ]
           ]
          },
          "colorway": [
           "#636efa",
           "#EF553B",
           "#00cc96",
           "#ab63fa",
           "#FFA15A",
           "#19d3f3",
           "#FF6692",
           "#B6E880",
           "#FF97FF",
           "#FECB52"
          ],
          "font": {
           "color": "#2a3f5f"
          },
          "geo": {
           "bgcolor": "white",
           "lakecolor": "white",
           "landcolor": "#E5ECF6",
           "showlakes": true,
           "showland": true,
           "subunitcolor": "white"
          },
          "hoverlabel": {
           "align": "left"
          },
          "hovermode": "closest",
          "mapbox": {
           "style": "light"
          },
          "paper_bgcolor": "white",
          "plot_bgcolor": "#E5ECF6",
          "polar": {
           "angularaxis": {
            "gridcolor": "white",
            "linecolor": "white",
            "ticks": ""
           },
           "bgcolor": "#E5ECF6",
           "radialaxis": {
            "gridcolor": "white",
            "linecolor": "white",
            "ticks": ""
           }
          },
          "scene": {
           "xaxis": {
            "backgroundcolor": "#E5ECF6",
            "gridcolor": "white",
            "gridwidth": 2,
            "linecolor": "white",
            "showbackground": true,
            "ticks": "",
            "zerolinecolor": "white"
           },
           "yaxis": {
            "backgroundcolor": "#E5ECF6",
            "gridcolor": "white",
            "gridwidth": 2,
            "linecolor": "white",
            "showbackground": true,
            "ticks": "",
            "zerolinecolor": "white"
           },
           "zaxis": {
            "backgroundcolor": "#E5ECF6",
            "gridcolor": "white",
            "gridwidth": 2,
            "linecolor": "white",
            "showbackground": true,
            "ticks": "",
            "zerolinecolor": "white"
           }
          },
          "shapedefaults": {
           "line": {
            "color": "#2a3f5f"
           }
          },
          "ternary": {
           "aaxis": {
            "gridcolor": "white",
            "linecolor": "white",
            "ticks": ""
           },
           "baxis": {
            "gridcolor": "white",
            "linecolor": "white",
            "ticks": ""
           },
           "bgcolor": "#E5ECF6",
           "caxis": {
            "gridcolor": "white",
            "linecolor": "white",
            "ticks": ""
           }
          },
          "title": {
           "x": 0.05
          },
          "xaxis": {
           "automargin": true,
           "gridcolor": "white",
           "linecolor": "white",
           "ticks": "",
           "title": {
            "standoff": 15
           },
           "zerolinecolor": "white",
           "zerolinewidth": 2
          },
          "yaxis": {
           "automargin": true,
           "gridcolor": "white",
           "linecolor": "white",
           "ticks": "",
           "title": {
            "standoff": 15
           },
           "zerolinecolor": "white",
           "zerolinewidth": 2
          }
         }
        },
        "title": {
         "font": {
          "color": "#4D5663"
         }
        }
       }
      },
      "text/html": [
       "<div>                            <div id=\"f355b3ff-706e-4543-91e6-74f1c5dc1973\" class=\"plotly-graph-div\" style=\"height:525px; width:100%;\"></div>            <script type=\"text/javascript\">                require([\"plotly\"], function(Plotly) {                    window.PLOTLYENV=window.PLOTLYENV || {};\n",
       "                    window.PLOTLYENV.BASE_URL='https://plot.ly';                                    if (document.getElementById(\"f355b3ff-706e-4543-91e6-74f1c5dc1973\")) {                    Plotly.newPlot(                        \"f355b3ff-706e-4543-91e6-74f1c5dc1973\",                        [{\"marker\":{\"color\":\"rgba(219, 64, 82, 1.0)\",\"line\":{\"width\":1.3},\"opacity\":0.8,\"size\":12,\"symbol\":\"circle\"},\"mode\":\"markers\",\"name\":\"malignant\",\"textfont\":{\"color\":\"#4D5663\"},\"x\":[9.192836826576448,2.387801796300841,5.733896279727869,7.12295319816786,3.935302073892527,2.380247150325292,2.238883308248365,2.1432985005008867,3.174924292952098,6.351746789360705,-0.8104137706339322,2.6511004770693365,8.18503445859089,0.34212591404141784,4.342379194508793,4.075656175026837,0.23005501597154307,4.418010916348534,4.948703550806677,4.733210788397608,4.208524209144596,4.949632074150662,7.098562855410243,3.5102626043235716,3.064053886228294,4.007264143546091,1.7153097265028125,6.059445513298998,2.9022361052425287,4.554782688516123,4.990602722324597,2.985340788986493,2.766369157758095,1.2961987648779898,-0.9980689009615645,0.7652641156221901,-2.1509534707296796,-0.0933313866845614,9.087999676808277,0.9904537656526249,-0.29354655086291204,5.380940406753096,1.700006886990327,3.302550950915041,-0.674619285466932,4.648738872573044,2.1768628822622356,4.759112153566207,1.6916079231581196,1.812305404929694,2.704596172834234,5.503705314694711,-0.3617091926205002,1.4281675930186464,6.2308965117546755,11.66871464862908,10.76924281945634,5.034811085327382,3.288235385054486,0.6076079450705679,3.5835636263188393,0.2524975679266415,2.77586556905781,4.396227954521387,0.6162808699416479,-0.432860220804948,3.2139167652544236,13.056121858002893,3.110527693377641,4.956725570076287,0.8510142628305473,3.33413319820687,12.894612132695496,-0.6388804999378603,1.9191334223776406,4.643691316361919,1.432069426625607,1.3526270250804344,2.1714160183187037,-1.976840355153664,3.7820264559016037,1.3450204378318584,2.3999978436864478,4.10078772607837,3.3873307650677242,6.1498861900722535,5.494152798142796,1.2136346122275248,5.069661081437199,-0.9474878916303234,2.819368343554971,2.9563018671943033,9.512669844279259,9.007165526492477,0.7588784845773042,-0.39001898098791465,0.3648761518925025,6.523116618767574,1.7796614892028275,2.6114848930896213,2.498438877965974,1.277027174805227,3.4731973425897786,1.2566751122675823,1.6494606960110298,9.03658948033231,4.554590064673789,-0.22309260670222297,0.44654439630080994,4.808969244882206,12.28501975902585,3.372196590533264,2.508766312018223,1.3180684766173005,4.943581014464567,4.298077329705081,1.8032470203799122,2.755568001253973,3.2572546735891112,3.3163241135000474,8.403847113979868,2.6475686330103345,3.350295790682633,3.7955656417423107,7.14384203894639,7.085010648870665,1.3140990036856914,3.7116495148501785,0.4604790905280116,6.392649920491658,5.25554494980088,8.733861503695234,3.6913178802111446,3.3782508725684526,-0.8402096540447427,3.2843726195137384,-1.908768928199986,1.6147819253784252,6.619726346970834,7.6761494715109055,0.33734549263726593,0.017430791550437197,4.960268117936593,3.785060103054232,2.637255777183361,-2.3858827582301405,6.59023594339845,7.182933102413292,1.8953162763248987,1.8348404672926886,7.236485314849613,2.250510373961534,2.1078012274720894,1.7859499803029866,3.319673971689298,4.680166262544347,7.353218575009382,4.975162358624443,6.182283741674432,10.934298158400793,2.1184969322829,2.7350117718390763,6.227025988991075,5.307140022015208,7.248001061458978,4.20722061911107,3.6350149468442106,3.5192482751018175,3.7659321539705894,-0.5429013639883923,4.703500732119059,4.149097342640688,7.672141552546856,6.28967346922866,2.7633707862793138,-0.9340908104635113,6.003616591615382,4.949858461549784,4.549111146790629,4.442342818005178,0.6644409149059353,2.4723569165731316,0.9817275419726932,3.2454136489493015,4.331653344769503,2.5117531021510233,3.475493748396199,16.319233230607317,5.930964859787629,3.8244330428341398,4.7546148706330875,-0.7417817671241713,3.103519704014256,3.715705103688432,5.094841843824669,2.7903998294296644,7.259178841081981,4.094142557207288,2.2269944896880474,-0.7337724523087519,2.69722375426953,3.3790146676848796,8.630755859548172,4.028435260964102,5.165410948450631,0.5359319491540262,5.917612589217796,8.741338077733797,6.43931548413669,3.793382370061101,1.2561792759814876,10.374794059403252],\"y\":[1.9485830601622185,-3.768171757707668,-1.0751737975035605,10.275589107555017,-1.9480715751812983,3.9499288958340326,-2.690031283311762,2.3402440035043792,3.391812955705597,7.727174070072081,-2.659275504192535,0.06656793199780914,2.7009764798437335,-0.9682792627062997,4.861083315975853,2.9770611896730075,-1.5647577335166156,1.41867032244152,-4.114333532099174,3.3049637225750526,-5.128366515680956,-1.5437522921086693,2.018610320677209,2.1716251036568774,-1.8765523532373272,0.5372421643072711,-1.5237050214809402,-0.757177445142644,4.005295504992578,0.3375361624410852,-1.1325889005287608,0.7584232415959,-0.3543559420159714,0.9131962799293747,-3.3512929211377003,0.8862439446041378,-1.9239916159069215,2.2607520095923297,2.0186731144550945,0.9849300158873535,-0.13709909338581888,-0.13487697220621073,2.352271787594993,-1.1309377912865735,-2.116409720186186,-2.3103325733489823,0.9721160442507698,3.011680516155873,1.54067655717893,0.7227401934657923,-4.437141775466893,0.9383254337389939,0.11973908401452266,-1.967101415906401,0.9200695471551342,4.748617194634198,-2.2579829032303462,0.774409160090064,-1.668237072706947,0.162214528206913,-2.206661847915461,-0.5313515599793655,0.5580005246992946,-2.1235077065073504,0.6389116651532216,-1.3920442993970241,4.046756218682672,0.981513248189855,1.5693895551561763,2.3848462160101027,-2.306735373398701,-1.3255573601579136,2.3166225038538153,-0.9113660292874951,-3.5380823597114177,-1.4820171627758638,-1.0496039444190262,-1.1541414613196281,-2.8262607261180293,-0.41938745217079765,0.8603815870415934,-1.2747709585962173,4.837988802699805,-0.37880380408191605,-2.911037121375305,-2.0176527583765407,-4.1658293199994585,-2.0390389602394237,-1.785152333467197,-1.6847535499483437,1.2651031286637213,0.7064218498882158,-5.603484195822902,0.5810310713966674,-1.6085325697135533,-0.9892423549080652,-3.5744612273008585,8.011169660354078,2.7765871704231353,1.5614217116636873,2.278482844639902,-2.443258948672212,-2.2778489011121157,0.382393255559677,-2.102291073366428,-0.655172826536812,3.0866391604394687,-0.7018214928891942,-2.7877077376501465,-3.0291029721913714,-7.543410156759027,2.5878254318542053,2.6146484645742296,2.154479498973073,-2.8483244561631533,-4.6662751735850065,0.16646095988920687,3.465773600011561,-0.1252004964330724,-3.9391522608043568,-4.153904791425742,-3.9511729487049596,-2.15457002854605,-1.026232639161838,-2.074842229981729,0.5282231684733272,-1.7754258347818435,-2.807477112613501,0.3941662986563881,-1.8230941616021874,3.894530987745452,3.2798773526941174,1.0656460673463304,-3.3712278877989394,-3.500085024925691,-0.9906731867032672,-3.1219458031108305,-2.4745733486338843,-6.003276419352607,-3.075306297499616,-3.1443734573483084,-3.459343293571182,-1.3411230506581167,-1.9019074198795147,0.5771549982160733,-0.8241155771590611,-1.48486245134217,0.05514605076245238,-2.3922380035198154,-4.3215229691844455,-0.03570181182049814,-0.3485359359655948,1.121973955512212,-0.2692216354814355,-1.5770528481755535,-0.9685929572162281,-5.242623142032501,-1.3325721867692453,5.108005449694302,-3.7032540788314496,0.29662905801562317,-3.9451682347741333,-1.390109700356401,-6.723414982758076,-3.655469135740889,1.1762428761909023,-1.9564409160757639,-3.8586071225383827,5.985295352576085,-1.3170679168890778,-0.1959557683901722,0.7674888383562772,-0.8604841485039384,2.0365474062765383,-1.078633508875932,-2.1059455884629537,-0.09102922974810346,3.0060641282336706,-0.8160005113849266,-0.99243889351875,0.4368608484293253,-1.4998247453595481,-2.210429949512594,-1.778358634278716,-4.049332425564425,-2.5288075800919696,-1.672884399129184,-7.775852790936668,1.2282966752569793,2.3052363195183263,-1.4894235595977499,-2.45203496365912,-1.2361532137709523,-1.0586862262526813,-2.019207835046621,3.3855607715398444,-5.495735727128725,2.8029272505947618,1.9416347433991348,-1.9436971807629375,-1.943709941836875,-2.3334289434654445,-3.459451928380364,-2.9414300946506833,-2.382203236084466,0.3807151535041328,3.482636654939331,-0.5738546875022505,-3.576817451167289,-3.584047864742275,-1.9022967077979431,1.6720101165346613],\"z\":[-1.123166594910504,-0.5292933121353497,-0.5517475880908389,-3.2327901175754237,1.3897664626563728,-2.934876768367662,-1.6399131714325814,-0.8719474195698024,-3.1199857413566376,-4.341915624184286,-0.48883005882893693,-1.5264550882072054,5.730230256039504,1.7171715163568062,-2.8161153668639027,-3.125273764956768,-0.8025194777624831,-2.2703194759073098,-0.3147494129060613,-1.4665369189052442,-0.7524021459001654,-1.7131941364142396,-0.02901023959354926,-3.8945468473961364,2.581747494287094,-2.7616254940308584,0.14618714416851866,-0.3492391368544139,-3.001462765808931,-0.754300423162561,-2.5773839891933816,-3.493761741699142,-1.896962973745818,-1.5757685011941398,4.305573930275383,-2.7049185953202106,-1.180484159492125,-1.9047263345660252,2.141226845465003,-2.3107338381515063,-3.301931998842427,-1.6788423374097814,-3.078089287466207,0.8263931794744874,-1.3962198815031048,-0.7288090284542624,-1.943888377710861,-0.16624034493850548,-1.799845222295438,-1.4662494708577327,0.3073451341642436,-2.2101309179413287,-2.040955882308523,1.1119387045719207,0.0898274923695685,2.0058786805099347,0.038835578467561,2.682338226123006,0.14693142970391665,1.637375002327949,-1.7045359128307305,0.5893273339387515,-0.6057713095984725,0.579510229519751,-0.19991901626069153,-0.08271949444598774,-2.7153845570904656,0.5988135010094844,-2.6139361513834496,-1.9351071862200593,0.5674617088522351,0.728013431180954,6.328698598172322,-2.142724203373671,1.2549248563536501,-1.1706802665179865,-1.2620111049090244,-1.2097928764816965,-0.5621075112210835,-0.3805753740255851,3.6710002842803826,0.5558434310621414,-1.0281576934675254,1.446318175202371,3.0072372215064753,-1.5661438429654506,-0.6012613548909129,0.9806960777459333,1.1736471220780234,-0.3511864858246446,-2.1531443462797744,-1.0423355004530879,-0.6372395340847012,-3.1347154420619403,-1.5150954908375396,-2.5851693351391107,-2.2239785950725506,-0.32642182012876936,-0.9427628176476841,-0.21818685930009668,1.3194782716452735,2.4663175965998336,-1.238683747134694,-3.8383207278372877,-0.9752716833584966,0.22128004596388476,-2.2704041605043694,-2.2707621435443714,0.4443824111507443,2.7440184837359847,10.112424378419885,7.0920749339405145,0.20637984494618372,-1.7866326716685517,0.9138788613489223,-0.006840861215241731,-2.6285994609225716,-2.47405098010721,-2.8960975853147355,-0.20545375099804922,0.04696842676438129,1.3718814149381031,-1.1089437807391556,0.8986357421191769,1.0883874693138569,-1.2799871559024405,-1.6726318720133686,-1.7561937025586365,-1.0046981523514669,0.47984978491358304,-0.833853467060498,2.903698571753305,-3.515589026473094,-1.7667775982513318,0.18248390360985928,2.554386957409055,-1.063056032784046,-1.9911348129127666,0.9893775863920944,1.4819596111918834,-0.11572148022779674,0.3069207167800006,-1.4570534697035478,-1.7442420615737486,-1.9946997098786456,1.983963250385233,0.3613398289639287,2.0129174843205355,-1.6764913093072913,0.3166851503883268,-2.8410671844859285,-1.0647506982910675,1.7751587219937606,-1.7225153149021564,1.360728293420339,-0.29127244457112256,0.31695583877891953,0.8709773130570371,0.5211406090410288,-0.8916940278490659,0.8674849484539378,-0.01716969234310086,2.7342368164261277,1.485664826098589,-0.15570221793999883,-1.590018378341899,-0.8287753283879138,-1.0225291683164817,-4.880360984107346,0.9957543010236493,3.757032418304748,-0.8879749350024821,-2.1536500194860797,-3.182081878403081,-1.179623931897269,1.4329171315847926,1.7112013653407518,-1.7540716794612763,-0.5187552867534572,1.4423192378039293,-2.680782142624347,0.5914534604007586,-1.699919325280388,-1.7931537302650464,-0.19250581067049258,0.7982024395023511,0.8568264650188904,6.235416067544783,1.7215875078802632,0.027546328624829506,-1.2537510538101557,-1.9977098701882587,1.2873549695955209,0.5219532835580079,-0.7093697279652328,-0.7530763213320831,1.910925515414723,-0.5074333791081983,-2.285604090773788,-0.2752361146910087,-0.9605642850291722,-1.2019321374082685,-0.17905734867358544,1.6594855325180053,-0.42227745240785597,-0.44313444125895074,-3.262791784612263,0.8970895269962882,2.4594863325808483,2.0884763513036275,0.562730728842946,-1.8770288703568891],\"type\":\"scatter3d\"},{\"marker\":{\"color\":\"rgba(55, 128, 191, 1.0)\",\"line\":{\"width\":1.3},\"opacity\":0.8,\"size\":12,\"symbol\":\"circle\"},\"mode\":\"markers\",\"name\":\"benign\",\"textfont\":{\"color\":\"#4D5663\"},\"x\":[-1.2370633568803777,-1.5781612351097327,-3.5573363732028636,-3.749313395719639,-4.581936672068142,-2.1364452776781895,-1.5674789970987537,-3.5429055574265504,-3.157814049879452,-3.4504885432465753,-2.8581584399663376,-3.721458993055364,-4.1359629434311165,-2.3858356633560467,-2.578883252589542,-2.314132248958277,-2.7859247565251737,-3.5186483394291628,4.3300026491307335,-3.2612794728721064,-0.30785577073092396,-2.6299766387315495,-0.8345178821796148,-2.021577658723384,-1.638384937425859,1.1674616110479377,-2.174464309875076,-0.9341581041391501,1.2596046468734632,-1.588263972359001,-2.8474315864523283,-1.9649501132992233,-2.592082827650599,-3.9043381500922214,-2.8182312128712663,-4.555028840507173,-3.4481835410807067,-2.115960264169279,-2.6913522052774015,-0.7492713565104957,-3.159006037377599,-2.228679813223508,-2.492831035491838,-0.10335042596391397,3.5912941189822494,-1.34894868279756,-2.510117675352734,-2.046029572823976,-2.0970691693757506,-2.965999206716363,-0.770743677520327,-2.202515523831715,-3.143412245753109,1.4088683632033814,-1.8774673638546218,-0.7091148316653959,-2.6007895041706632,-3.258007359668045,-1.992034722563496,-5.015008690100216,-2.4559688108833893,-1.8372816693373246,-4.346489712337865,-0.7328129164292492,0.39309866385964864,-0.4123278127397504,-3.049924940661075,-1.4425637319989881,0.08318610275282123,7.093306714572961,-3.7434045429732743,-0.9691728142418748,-2.418719908025105,-0.7516030057883647,-3.654646528321913,-4.680211575822131,-0.5977817668067992,-1.3250313470992794,-2.99740320732709,-4.3867327211023,-1.9777014399717783,-2.5148764189305277,-3.483986297674485,-4.658729578205555,-5.351618114868053,1.1708977788428203,-4.9757020620851655,-4.064025658572087,-2.659359615409488,-3.8890655273062706,-2.835890917877718,-3.310283620991255,-3.3573044029009798,-1.7177351758413026,-5.565735898689483,-2.819038509581178,-1.473431369252432,-0.7811899669184471,-3.4548953863100547,0.3144382261215529,-2.0591919425419225,-2.99871052835461,-0.3887562988664519,-2.7569329913421154,-2.3735018020785814,-0.9671903119548241,-2.975798787878244,-2.4783595122364144,-0.8260392926179514,-3.894697328514395,-0.3895780903758137,-1.4573213567020362,-4.01914024075364,-3.676413293150854,-4.036607361207513,-2.3342333502542294,-0.6817688659341431,-2.2277205188863434,-4.477584655664853,1.3226214187059355,-1.8500898604640839,-2.2813180989703157,-3.228770118254795,1.0259007872655777,-2.5825558372861113,-2.4858832255635743,-3.0324811407803427,-1.4646759335916937,-2.012152428587715,-2.2843402525257748,-0.7397430860000179,-4.506562510525282,-3.158754301355338,-3.6391359668982797,-1.276583379242473,-4.346014054574744,-3.492426037328464,-1.8665488538459298,-2.470722684518318,-1.3726850236244073,-4.138882573397055,-0.6869402913155234,-4.3121295826062855,0.4033094214084452,-3.003605795185616,3.1340082046443,-0.41783686684944576,-1.4202231348987742,-2.8705883477740004,-3.3658457042075973,-3.315000154875949,-4.76971015961176,-2.7870960093158024,-3.3938417713366356,-1.455330517897214,-3.578835403375468,-3.0570326420118548,-3.0744358315405798,-3.853539733432699,-5.3902563930331855,-4.657682334550129,-4.0275423882265455,-3.347821941482075,-3.299842011465863,-2.1364041424283484,-4.038017141801804,-3.765414553086997,-4.871239383571254,-4.747248516360186,1.5729311411756057,-4.026620252409224,-1.2948661700496613,-1.8103805591432247,-3.145650188582283,-2.887268058512708,-3.1496539839907003,-4.628379482862972,-0.5276966175386937,-3.213500980762708,-4.386422966533823,-3.810017869687635,-2.3932759641954617,-3.0676951407110984,0.2953131831475291,-1.9389694968786484,-2.0771789211739033,-2.176916879644998,-2.431551454983317,-3.36796577875774,-1.206597790258403,-3.32607924843198,-1.9287954028262349,-4.041835089721813,-3.0121949700315085,-0.9826485811642675,0.3578938623480351,-3.1939178654629314,-2.993233300847497,-3.193914150228487,-4.591961853623036,-2.4859161547444,-2.3986653463191043,-0.7796151999810532,-3.13998842581825,-2.2237757456809235,-2.4996363741496754,-2.6149483073803275,-0.09610811641299427,2.044856935047713,-3.06674952747343,-1.6035864435479363,-0.92556660326869,-3.2883495940167506,-1.5548521492221326,-0.3987799179840666,-2.30056782157617,-2.0588194558117245,-3.42451805522602,-0.47240655194156983,-3.6433802386446756,-3.594689343864818,-2.0103794140351727,-2.920833494662678,-0.5007378004098479,-1.911498575059947,-3.7850992276758895,-2.708393968523011,-3.430770691491924,-2.001388466560538,-2.473293094403106,-3.6472577462388136,-2.3461868507803976,-1.142996926599901,-1.350857303518735,-1.9693236051765382,-2.931187055426735,-2.926374386272589,-3.99618827732196,0.15513805943834033,-1.9296217305322716,-2.6223386016913235,-2.9218778043105837,-3.3419448040846795,-2.014915033416932,1.9884621055031897,-1.6696039307622232,-0.3711781135225273,-1.848959929788096,-4.703042201849405,-1.283187150878811,-2.31424681941363,-4.659085176125173,-3.9434733817721535,-0.9158035194663339,-2.1949843011898276,-2.240876053580152,-2.125180436750845,-2.615317411269913,-3.210967975488205,-0.3067503985788195,-3.4547183723026134,-3.9005268480681474,-1.2572515706321707,-1.5572194126384247,-1.2492580968113969,-1.0774513298199,-2.2170923055143783,-1.173830646804813,-2.83630144424251,-1.8570858988061087,-1.3286143731243336,-2.8027713569485346,-3.174568796950294,-4.087077360866839,-2.5601150181268046,-2.9688887958736645,-2.7574304509037297,1.3703398749820694,-0.4176644926685872,-3.8383986227606637,0.6454786476643981,-2.683846400917217,-2.0416640521597813,-1.399296350132809,-3.5364152954568304,-1.9905294469855568,-1.9981853672832237,-0.5206581124457763,-3.1723704882479042,-2.202710189282007,-2.9854846904739603,-2.4810551072774447,-1.2721114611582414,-2.235156888147806,-0.05618310441784885,2.317390606253574,-2.284331261166002,-1.726310917728176,-2.894310660950673,-1.6545218458784894,-4.064270597377,-2.7933306574479984,-1.4749199375967852,-0.22939463700346457,-2.5532584075874896,-0.6006161133721544,-1.4087712145108502,1.2988665486244069,1.0766932762796149,-1.2497605250670483,-1.2569284052275185,-1.1665352143477254,-1.8876392410101024,-2.7674357029001624,-1.1315768911143522,-2.3336707369298195,-0.19987058024324766,-1.176025913472885,-1.2926365392640315,-4.429456370952537,-0.6198387401560703,-3.252315768399529,-3.3529270533517734,-0.8598029861807908,-3.1566219687327015,0.34652811310265236,-2.461406650990078,-1.5301007214384805,-1.773585066369272,-2.68044162394979,-2.1363512287379667,0.34312338287437305,-4.1970799858058285,-1.1428318646509956,-1.6654751534026835,1.0117124954566452,-1.3009297117582386,-2.373428725010696,-1.6658710118298146,-1.9276781926266917,-4.2372166180700255,-2.67787072066689,-3.8364978515465564,-2.5514402959118865,-4.694923445133873,-2.025037164357263,-2.895948205443647,-3.502201040258104,-2.153903667529148,-2.055084067806769,-3.8772895796388003,-4.063862114763818,-0.09866733292000784,-1.0893761899793724,-0.4817709648667881,-4.87030951822708,-5.475243302012599],\"y\":[-0.18821495664397225,0.5728082030969428,1.662949892985432,-1.413473124754824,1.4842203143235688,0.09582962172872428,-1.2084332174502301,-1.282495579684438,-1.688958604951368,-0.49821872285475133,0.15272313307203944,-1.7876416439104408,2.403792474923562,2.757658136076849,3.138671943158603,3.267989666379088,2.3106487080356315,-0.6583094768414599,9.202525686287391,-0.9378381178014343,7.387812184468455,-0.6973093633671239,1.9656048850746188,-0.2548998248316058,1.7159491166312306,2.514515850464293,0.4968779951613991,0.9277014724290447,1.0155770849693262,-1.6196568226847723,-2.893647606184503,-0.9651569763791313,0.21363392507759005,1.1900666315530954,0.36788397279231905,3.5287860205794592,-1.4246224602669835,1.8493736088728836,1.4200617502589605,1.7976385221028321,-1.0357494276605266,0.6674106298160609,2.5986862646223328,2.2801435230316893,3.926333146172545,3.556225099176995,3.2513194975906616,0.3048848783811539,3.6670958833153433,0.3715064850775642,-0.06410922042383667,-0.735605228778907,-1.87740902127593,1.3049294122630881,1.4232306515706135,-1.5682323256249697,-0.4823354630435108,-0.4183213996719178,1.329355185532565,0.5746999826988649,0.8984552990743444,-0.09102677072498855,-0.8935722627573541,3.7021823922779067,1.083068065102137,-0.38963131900582776,-2.237784515536874,0.3058704620014835,7.1503597948301145,12.573194216669055,0.2505015260684529,0.9449442983316698,0.005552409914206191,-3.0706486497100247,-0.6746487401202325,-1.1038572541059453,1.7856508809441758,1.4692940266236825,-2.7388610456899825,0.006872281328632546,-1.8427794097621053,0.11425229986759766,1.619691971495928,-0.2229148072902245,1.0267578561575867,7.014486580358729,-3.386204869843341,-1.246166179606903,0.5399358030609402,0.8160717143363618,-0.3987297030607107,0.1557412029244396,-1.103732412668149,-0.5431655364121488,-0.4778475879500997,-0.9701105681708645,0.11689025713337423,0.6528492592319673,1.3069387293472325,2.077560723470898,-2.4727877879953137,-0.3967780245294915,2.2767978988068807,1.086834688445676,-0.7334025602579253,0.438438192885204,1.8109737738539664,-1.4185764514690473,-1.250247467568756,0.5385707500295395,-0.6144154648906743,-0.20172676076538432,-1.354247375249605,-1.2916290614336599,1.1625460900376068,-1.3489797312481255,-1.135991129960972,-1.2149996851055682,-1.7411293645083434,4.7894765880149235,-1.5841281398029379,2.0776859706955695,-1.1720734792580658,2.361261955300004,0.7292131143290635,0.46059640408464453,-0.6494687997510479,1.6866318185949651,-1.1034865554617772,0.009493653754193976,3.1525206166150617,-3.1692725927635896,0.4103017929242,1.5895870551824154,0.849052984561282,-0.3219780458550451,-2.6340823991438684,-0.9020642045535917,-0.13802628662553346,0.005805460578958976,-1.376508235775816,1.695009621899771,-1.978486137609135,3.723434003215116,0.354160222715895,4.2734595817874315,-0.8085765725218343,1.3939781066895318,-0.26864450967255005,-0.8076006103659663,-1.4421762278422863,-0.5429618628812214,-2.533034006453212,0.7539639514777982,0.5919428677947994,0.8915829894396763,-0.17921338171610895,-0.30605843603251065,-1.52472641690493,0.5562554816338295,-3.0653874318345213,-2.5429070400166873,-0.0685630514094504,-3.1387093941078783,-0.004392846276247558,-0.2406980520477986,4.39820048715605,-2.3392147845112348,-1.7984019752614384,6.509099290750588,-1.4022064708188187,3.47080863759527,0.3962073104536449,-0.7425265397050624,-0.46473161569038657,-1.7712483911965293,-1.835618367492476,1.265871627793207,1.1034431501955537,-0.7611037286913609,-0.9099185591067931,0.9900307740696679,1.1358375718751708,0.22693503970010404,2.5449881105790055,1.8065194809399596,0.9589112610709055,3.447203866388632,-0.5629289013218957,-1.3170443463073895,0.4751715725921251,1.4614698168992692,-1.3569174646197133,0.24375997173059127,0.7972523908131757,2.1278386372578955,-1.8491520742846936,1.6313921932147881,0.5793394351348484,-2.761127093994436,-1.1889393938356596,-0.25074478638911557,-2.124343419613144,-1.488022159862772,-0.3571607075108173,-2.018535625428574,-1.1024744550886147,-0.12984758760336548,6.426819824828568,-2.182095702073271,0.2925962268001973,2.302481431876997,0.20131133409947097,0.9798577154587179,2.1612127042197997,-0.9320775767047704,0.32043514470730455,-2.445518411728635,3.702829441415812,0.7868599176056573,2.6050872251774537,0.4296895698100664,-1.7004724801821873,0.10673146900164457,-0.6513938759535449,-0.32614637163118804,-0.21966573197254552,-0.9926100270162496,-0.2933264574251125,-0.33504702250589163,-1.2413651304144173,0.6827413121271615,-1.9621714920187587,0.36957390765641757,-0.17584850409354702,-0.4948562294155163,0.3773322611270797,0.9598560871384222,-0.4380082276825646,0.8924666994024311,2.5021016173475505,-0.00921269009463746,-0.022224726004547612,0.7784521318557232,2.316048057013336,0.8623188577148614,0.11361265825346589,2.5412296476325573,-0.4323024389402906,2.5509093137155725,0.4020314808003542,-0.7822987656921372,-2.030016285939771,2.479013133771847,-1.8053532322350714,-0.4545895129500462,-1.1947969171616992,-1.8320604309605935,-2.2351427099033216,2.184998829495747,-2.1364615418344766,0.7307759698486374,1.067691502585308,-1.0379271026726216,-1.588838785697815,1.8036181606342263,0.029891289958615716,-0.47483950498610555,-1.0181258093934473,-1.571393121429384,0.7770956663975864,-1.666301628981928,-2.075733613671661,-0.4847100817861515,-2.4940454441088216,-0.06884713743204213,-1.7939187720490635,2.1100113630911195,0.11651970055371492,0.8991786417703818,3.426011415879813,1.4435555266963926,-0.9032559285544604,-1.7722262449446946,-1.2468541524031322,1.8994625629080808,-0.20637113182445727,-0.9733678059695535,-2.089052298221475,1.2860393260060703,-0.6733392388765094,-2.3639587607078587,0.5098338444194463,-1.2987044912292605,-0.22738338947321451,4.389134336546518,-2.4668407464077173,0.9981778365258447,-0.9779443209905936,-4.555664123434921,-0.5609542345839212,-1.0778881332271502,-1.5910942017415683,1.5159034166424696,-0.763900485747894,-0.8384546681383978,1.5057705963160972,7.729852807892925,8.294775429395495,1.5956838642609728,4.117186668771324,-1.6656937401700578,1.672191727240601,-2.1610487935233493,-1.411001953984722,0.7901466114114072,1.0763600075554622,1.011370185625044,4.96422470279609,-0.7860360390016863,0.6363492615493195,1.2859251549057054,2.673300591837762,0.09684852872352645,-0.8715426223589199,1.5412252790686072,0.6008479718043193,0.4052177851231743,0.8042100224034764,-1.4847089003983909,1.5185806439324367,3.534481054785558,2.3673922651629034,5.599458473453872,2.3896181316216474,1.09238965790081,-1.8214153085975229,-1.6815762380572958,-0.2139627380075931,-1.1377399077866337,0.1842725010738016,2.315792816993035,0.4962499202633383,0.2283299566784127,-0.7674779450432598,1.2612419074493717,-1.4516357668893887,1.800832482985401,-0.8300688145639343,1.6164592615408786,1.084254752472583,0.12216843566820651,-0.2135598302568082,1.292847895458114,-0.17801969093814407,-2.131106103251856,-0.6706368083295731],\"z\":[-0.593283589686217,-1.8014463387726174,0.45118701626837227,1.7323075183734091,0.04207447200409478,-1.492411401957677,-0.3691592402915289,1.018210888923537,-0.49629409020951354,-0.15251829066518302,0.42893483870235444,1.2799330952243309,-1.2429588466347155,1.2140858978723155,1.4002809452541798,2.796223740120606,0.47272512652121385,0.5913746953015042,1.4929627515217463,0.20513013329986562,3.819086313004554,-0.5839414280984034,0.7904333926289882,-0.647871657413236,0.434206332836382,-1.905718721052387,-0.9490914056300466,-0.040163968149053125,-0.08059226150370324,0.30999942776417344,0.5279885482184155,-0.0812076630257369,1.035611317562311,1.551981109605168,-1.3514359620655783,-0.21526388427575088,-0.08872416934515356,-0.556673805274839,0.9691511590715268,-0.5683656112203994,-1.4906842035225534,-1.0915606081717288,1.669725413710164,2.109562235048209,2.0470063861623,1.7321911825048835,-1.6876246536348447,-0.5338382487808402,3.6322003906749014,-2.066533041068063,-1.1344088126194938,0.267080165489026,-0.6703688572007793,0.641429004947829,-1.0708119015673396,-0.669994160025396,1.8723728922506462,-0.6918053787604737,1.135245059587796,-0.842437993008532,0.35313371811004424,-1.4452810832788425,0.6392561751742791,0.6585053656533205,2.24760559433418,-1.0457704758263708,-0.4694527235669935,0.5515483226517216,-0.06001014518104081,7.358707595483713,-0.0973832813107632,-0.8908114078137443,-0.7983805044134837,1.449181990001397,-0.9069859027122433,-0.2573084058043819,1.48173620489214,0.8484214453783634,-0.1611835411109015,-0.9481082384270836,-0.2773593434837831,-0.4966227224171629,2.6754689578082025,1.5593589618202985,0.3249858443442819,4.2718620698402265,0.4398383223958165,0.5744776288498261,1.7070147725740314,1.0157174182300144,-0.34744543388051974,0.5414792510167371,0.1520902369164122,3.2983749191517644,4.127462395863429,-0.3825914739990285,-0.2146678183559897,-0.6436569719542977,-0.029264253382952965,-2.0833120666184226,-1.4617188218463315,-0.5964657956937259,0.6273322088257762,1.7072382660026872,-1.526027363330996,-1.4476958316190094,-0.22343534873749407,-0.31653341132349755,0.26796094811615295,-0.8815585093420577,-1.352869051637113,-1.098878856869824,-0.3604724783678003,0.42461028584968935,0.18974714956820637,0.2326870450684887,1.2336664953439078,-0.1924136938771433,-0.8882071665286623,-0.6625349631870141,1.2639176231011007,2.4306486972701515,0.2646643052402409,-1.6168851237209245,-0.5481427816790791,-0.5989202698725302,0.310682676656462,1.1699060351482278,1.3380241665062385,-0.4504389826148253,1.46985828158639,-0.18806177823937292,-1.1088172680126114,0.7162794865977412,3.07006826645042,0.38847512624795233,-0.07218758934807487,-0.8711684912774781,1.7948844316355774,1.549289165943407,0.8780487715868555,1.0262127521684365,-0.2513066515676552,4.586468960602298,1.2340148094199024,5.8662805098885356,-1.093291524097498,-0.83698706639126,-0.4689872692893869,-0.8070792470501515,-0.5836325554151072,0.8938678920780976,-0.8840345388387927,1.771793327547127,1.1463403856690908,0.2614873136372079,0.6217736191798908,1.259253635428601,-1.144509430197191,0.5600691570562576,-0.0760090384095359,0.3532172762667307,-0.2701934472960461,0.1488923700622337,-0.05513886193417003,-1.3281266676056094,3.9502076304080065,-0.16829471494370427,0.16972020556926146,2.1671582872518327,3.18649959462242,1.109527922644023,-1.2303338160565915,-0.8623514292805433,-0.4757430028128776,-0.03583347821885946,0.06423074413213095,-0.9204409512923242,1.6119814869600946,-0.40059739856380866,0.4431675026867766,-0.7575101187531736,0.37462267883662265,-1.0894164738996235,-1.0014236125465987,-1.1670797386454645,-0.23426480127561916,3.456944814681597,-0.19257380273146374,-0.9307411232269855,-0.8982860832113214,-0.10064178824837901,0.5383413845415573,1.9837328822195925,2.3694210270316027,0.708209247608179,0.09939829911129129,2.556717424381352,0.4897639244624825,0.9805427768452968,0.3487772011988506,-0.3271376746208665,0.3207891747604902,-1.1988784080208088,-1.1016822029046005,-0.731274551229228,-1.2407358315952153,-1.6714643136544152,1.274120655595325,-0.27906277439001087,-1.5862252351128943,-1.5961117834787704,-0.6277563796570962,1.1965592702843661,-0.9456045287007874,-1.1299529617015878,-0.12245843318348595,0.045048743363502064,1.9537849973462476,-1.16214574719598,1.8520299840092138,-0.10408846647893558,0.2957270368784804,-1.0287477797033013,1.4502886649988498,-1.0580803440103081,-0.3145043672460569,-0.7316942792379879,0.6192041028378772,-1.4823618877868248,1.3866243415211303,1.1327336917435398,-1.2407196377144074,2.486675888419191,0.42073155159856945,-1.017070901120486,-0.8867936871849801,0.20440402155660906,-0.46144566465806547,0.04234508939597708,2.4349994826388475,-0.9013038104078415,0.5033013652861755,0.12557879994737525,1.23630400808279,-1.010305971583146,-0.9983635693162664,2.005347549283567,0.005304767697711335,-0.08386023370875954,0.2746233286225224,0.19212157086829418,0.6917357715787944,0.3626068508176431,-0.4351091977819358,-0.465527666388942,0.4903717792606709,0.764329614878748,-0.16622464401974657,0.039286085121160524,0.19716290456568947,2.1360711187577657,0.259474782248997,-1.301244957279179,-0.3264133000471415,1.7810415444716008,0.6364602163892085,-0.48157088081175065,-1.4866301145096463,0.826482657702255,1.2567584343950964,-0.19401811531792995,0.0749004997950168,0.6313639328898323,0.17031272294847166,-0.77841161748599,-0.757814255617806,-0.8537196900574977,-0.5361424511407141,0.7005636840591543,0.6082847397184455,0.33940342382322697,2.843241476773193,-1.4795615366192423,3.3854111779923874,-2.0309975976343644,-1.6413248832873064,-0.3241352239187206,-0.9788057316487387,-0.8873989427874881,-0.5904896994927492,-0.43261456763330924,-2.238991826816756,-0.901436812566012,-2.2555155200149533,1.7784111570026608,-0.8211880969315786,-0.08023837023236305,-0.8056443160537041,0.7523230182159603,2.176684324765703,0.8445420972672677,0.3199914298575586,-2.2162830569166934,-1.6094031479184445,-0.6870421928336484,-0.3538958844569148,-0.6889144677561849,0.4341916701208409,-1.3564742241283916,-0.4127302618747406,-0.7378781755285537,0.11979718370211961,-0.021096104592479223,-0.56505266879063,-0.3500432628897515,-0.6731487069040207,-0.7117680180292258,0.3459269862032142,-0.47341923198109537,-0.48885161069235006,-0.21847674481028806,-1.7790873086092143,-2.814044508635117,-2.195714721961072,2.8464541253861997,-1.171465059045885,0.6044645599335375,-2.027917662823749,-1.741693402452864,0.17896540608939182,0.06966888038135394,1.3271440710286915,1.3010370877394393,1.50224967085159,-0.6326980461746778,0.3733072346422211,0.3845281425524346,-0.14807238442697312,0.4782026093712265,-0.3264182471620175,-0.053848419660308865,0.923239379070915,1.414177968149326,1.5439648188591417,0.5049263753969668,0.7805459015876682,2.766456282559343,0.5647968884402184,1.8389592351063202,1.8599442083116742,3.2387727001188065,0.3889297485954084,1.429378779799086,1.0321075998897713,3.4141889635638583,1.4904424435735666],\"type\":\"scatter3d\"}],                        {\"legend\":{\"bgcolor\":\"#F5F6F9\",\"font\":{\"color\":\"#4D5663\"}},\"paper_bgcolor\":\"#F5F6F9\",\"plot_bgcolor\":\"#F5F6F9\",\"scene\":{\"xaxis\":{\"gridcolor\":\"#9499A3\",\"showgrid\":true,\"tickfont\":{\"color\":\"#4D5663\"},\"title\":{\"font\":{\"color\":\"#4D5663\"},\"text\":\"First Principal Component\"},\"zerolinecolor\":\"#9499A3\"},\"yaxis\":{\"gridcolor\":\"#9499A3\",\"showgrid\":true,\"tickfont\":{\"color\":\"#4D5663\"},\"title\":{\"font\":{\"color\":\"#4D5663\"},\"text\":\"Second Principal Component\"},\"zerolinecolor\":\"#9499A3\"},\"zaxis\":{\"gridcolor\":\"#9499A3\",\"showgrid\":true,\"tickfont\":{\"color\":\"#4D5663\"},\"title\":{\"font\":{\"color\":\"#4D5663\"},\"text\":\"Third Principal Component\"},\"zerolinecolor\":\"#9499A3\"}},\"template\":{\"data\":{\"barpolar\":[{\"marker\":{\"line\":{\"color\":\"#E5ECF6\",\"width\":0.5},\"pattern\":{\"fillmode\":\"overlay\",\"size\":10,\"solidity\":0.2}},\"type\":\"barpolar\"}],\"bar\":[{\"error_x\":{\"color\":\"#2a3f5f\"},\"error_y\":{\"color\":\"#2a3f5f\"},\"marker\":{\"line\":{\"color\":\"#E5ECF6\",\"width\":0.5},\"pattern\":{\"fillmode\":\"overlay\",\"size\":10,\"solidity\":0.2}},\"type\":\"bar\"}],\"carpet\":[{\"aaxis\":{\"endlinecolor\":\"#2a3f5f\",\"gridcolor\":\"white\",\"linecolor\":\"white\",\"minorgridcolor\":\"white\",\"startlinecolor\":\"#2a3f5f\"},\"baxis\":{\"endlinecolor\":\"#2a3f5f\",\"gridcolor\":\"white\",\"linecolor\":\"white\",\"minorgridcolor\":\"white\",\"startlinecolor\":\"#2a3f5f\"},\"type\":\"carpet\"}],\"choropleth\":[{\"colorbar\":{\"outlinewidth\":0,\"ticks\":\"\"},\"type\":\"choropleth\"}],\"contourcarpet\":[{\"colorbar\":{\"outlinewidth\":0,\"ticks\":\"\"},\"type\":\"contourcarpet\"}],\"contour\":[{\"colorbar\":{\"outlinewidth\":0,\"ticks\":\"\"},\"colorscale\":[[0.0,\"#0d0887\"],[0.1111111111111111,\"#46039f\"],[0.2222222222222222,\"#7201a8\"],[0.3333333333333333,\"#9c179e\"],[0.4444444444444444,\"#bd3786\"],[0.5555555555555556,\"#d8576b\"],[0.6666666666666666,\"#ed7953\"],[0.7777777777777778,\"#fb9f3a\"],[0.8888888888888888,\"#fdca26\"],[1.0,\"#f0f921\"]],\"type\":\"contour\"}],\"heatmapgl\":[{\"colorbar\":{\"outlinewidth\":0,\"ticks\":\"\"},\"colorscale\":[[0.0,\"#0d0887\"],[0.1111111111111111,\"#46039f\"],[0.2222222222222222,\"#7201a8\"],[0.3333333333333333,\"#9c179e\"],[0.4444444444444444,\"#bd3786\"],[0.5555555555555556,\"#d8576b\"],[0.6666666666666666,\"#ed7953\"],[0.7777777777777778,\"#fb9f3a\"],[0.8888888888888888,\"#fdca26\"],[1.0,\"#f0f921\"]],\"type\":\"heatmapgl\"}],\"heatmap\":[{\"colorbar\":{\"outlinewidth\":0,\"ticks\":\"\"},\"colorscale\":[[0.0,\"#0d0887\"],[0.1111111111111111,\"#46039f\"],[0.2222222222222222,\"#7201a8\"],[0.3333333333333333,\"#9c179e\"],[0.4444444444444444,\"#bd3786\"],[0.5555555555555556,\"#d8576b\"],[0.6666666666666666,\"#ed7953\"],[0.7777777777777778,\"#fb9f3a\"],[0.8888888888888888,\"#fdca26\"],[1.0,\"#f0f921\"]],\"type\":\"heatmap\"}],\"histogram2dcontour\":[{\"colorbar\":{\"outlinewidth\":0,\"ticks\":\"\"},\"colorscale\":[[0.0,\"#0d0887\"],[0.1111111111111111,\"#46039f\"],[0.2222222222222222,\"#7201a8\"],[0.3333333333333333,\"#9c179e\"],[0.4444444444444444,\"#bd3786\"],[0.5555555555555556,\"#d8576b\"],[0.6666666666666666,\"#ed7953\"],[0.7777777777777778,\"#fb9f3a\"],[0.8888888888888888,\"#fdca26\"],[1.0,\"#f0f921\"]],\"type\":\"histogram2dcontour\"}],\"histogram2d\":[{\"colorbar\":{\"outlinewidth\":0,\"ticks\":\"\"},\"colorscale\":[[0.0,\"#0d0887\"],[0.1111111111111111,\"#46039f\"],[0.2222222222222222,\"#7201a8\"],[0.3333333333333333,\"#9c179e\"],[0.4444444444444444,\"#bd3786\"],[0.5555555555555556,\"#d8576b\"],[0.6666666666666666,\"#ed7953\"],[0.7777777777777778,\"#fb9f3a\"],[0.8888888888888888,\"#fdca26\"],[1.0,\"#f0f921\"]],\"type\":\"histogram2d\"}],\"histogram\":[{\"marker\":{\"pattern\":{\"fillmode\":\"overlay\",\"size\":10,\"solidity\":0.2}},\"type\":\"histogram\"}],\"mesh3d\":[{\"colorbar\":{\"outlinewidth\":0,\"ticks\":\"\"},\"type\":\"mesh3d\"}],\"parcoords\":[{\"line\":{\"colorbar\":{\"outlinewidth\":0,\"ticks\":\"\"}},\"type\":\"parcoords\"}],\"pie\":[{\"automargin\":true,\"type\":\"pie\"}],\"scatter3d\":[{\"line\":{\"colorbar\":{\"outlinewidth\":0,\"ticks\":\"\"}},\"marker\":{\"colorbar\":{\"outlinewidth\":0,\"ticks\":\"\"}},\"type\":\"scatter3d\"}],\"scattercarpet\":[{\"marker\":{\"colorbar\":{\"outlinewidth\":0,\"ticks\":\"\"}},\"type\":\"scattercarpet\"}],\"scattergeo\":[{\"marker\":{\"colorbar\":{\"outlinewidth\":0,\"ticks\":\"\"}},\"type\":\"scattergeo\"}],\"scattergl\":[{\"marker\":{\"colorbar\":{\"outlinewidth\":0,\"ticks\":\"\"}},\"type\":\"scattergl\"}],\"scattermapbox\":[{\"marker\":{\"colorbar\":{\"outlinewidth\":0,\"ticks\":\"\"}},\"type\":\"scattermapbox\"}],\"scatterpolargl\":[{\"marker\":{\"colorbar\":{\"outlinewidth\":0,\"ticks\":\"\"}},\"type\":\"scatterpolargl\"}],\"scatterpolar\":[{\"marker\":{\"colorbar\":{\"outlinewidth\":0,\"ticks\":\"\"}},\"type\":\"scatterpolar\"}],\"scatter\":[{\"fillpattern\":{\"fillmode\":\"overlay\",\"size\":10,\"solidity\":0.2},\"type\":\"scatter\"}],\"scatterternary\":[{\"marker\":{\"colorbar\":{\"outlinewidth\":0,\"ticks\":\"\"}},\"type\":\"scatterternary\"}],\"surface\":[{\"colorbar\":{\"outlinewidth\":0,\"ticks\":\"\"},\"colorscale\":[[0.0,\"#0d0887\"],[0.1111111111111111,\"#46039f\"],[0.2222222222222222,\"#7201a8\"],[0.3333333333333333,\"#9c179e\"],[0.4444444444444444,\"#bd3786\"],[0.5555555555555556,\"#d8576b\"],[0.6666666666666666,\"#ed7953\"],[0.7777777777777778,\"#fb9f3a\"],[0.8888888888888888,\"#fdca26\"],[1.0,\"#f0f921\"]],\"type\":\"surface\"}],\"table\":[{\"cells\":{\"fill\":{\"color\":\"#EBF0F8\"},\"line\":{\"color\":\"white\"}},\"header\":{\"fill\":{\"color\":\"#C8D4E3\"},\"line\":{\"color\":\"white\"}},\"type\":\"table\"}]},\"layout\":{\"annotationdefaults\":{\"arrowcolor\":\"#2a3f5f\",\"arrowhead\":0,\"arrowwidth\":1},\"autotypenumbers\":\"strict\",\"coloraxis\":{\"colorbar\":{\"outlinewidth\":0,\"ticks\":\"\"}},\"colorscale\":{\"diverging\":[[0,\"#8e0152\"],[0.1,\"#c51b7d\"],[0.2,\"#de77ae\"],[0.3,\"#f1b6da\"],[0.4,\"#fde0ef\"],[0.5,\"#f7f7f7\"],[0.6,\"#e6f5d0\"],[0.7,\"#b8e186\"],[0.8,\"#7fbc41\"],[0.9,\"#4d9221\"],[1,\"#276419\"]],\"sequential\":[[0.0,\"#0d0887\"],[0.1111111111111111,\"#46039f\"],[0.2222222222222222,\"#7201a8\"],[0.3333333333333333,\"#9c179e\"],[0.4444444444444444,\"#bd3786\"],[0.5555555555555556,\"#d8576b\"],[0.6666666666666666,\"#ed7953\"],[0.7777777777777778,\"#fb9f3a\"],[0.8888888888888888,\"#fdca26\"],[1.0,\"#f0f921\"]],\"sequentialminus\":[[0.0,\"#0d0887\"],[0.1111111111111111,\"#46039f\"],[0.2222222222222222,\"#7201a8\"],[0.3333333333333333,\"#9c179e\"],[0.4444444444444444,\"#bd3786\"],[0.5555555555555556,\"#d8576b\"],[0.6666666666666666,\"#ed7953\"],[0.7777777777777778,\"#fb9f3a\"],[0.8888888888888888,\"#fdca26\"],[1.0,\"#f0f921\"]]},\"colorway\":[\"#636efa\",\"#EF553B\",\"#00cc96\",\"#ab63fa\",\"#FFA15A\",\"#19d3f3\",\"#FF6692\",\"#B6E880\",\"#FF97FF\",\"#FECB52\"],\"font\":{\"color\":\"#2a3f5f\"},\"geo\":{\"bgcolor\":\"white\",\"lakecolor\":\"white\",\"landcolor\":\"#E5ECF6\",\"showlakes\":true,\"showland\":true,\"subunitcolor\":\"white\"},\"hoverlabel\":{\"align\":\"left\"},\"hovermode\":\"closest\",\"mapbox\":{\"style\":\"light\"},\"paper_bgcolor\":\"white\",\"plot_bgcolor\":\"#E5ECF6\",\"polar\":{\"angularaxis\":{\"gridcolor\":\"white\",\"linecolor\":\"white\",\"ticks\":\"\"},\"bgcolor\":\"#E5ECF6\",\"radialaxis\":{\"gridcolor\":\"white\",\"linecolor\":\"white\",\"ticks\":\"\"}},\"scene\":{\"xaxis\":{\"backgroundcolor\":\"#E5ECF6\",\"gridcolor\":\"white\",\"gridwidth\":2,\"linecolor\":\"white\",\"showbackground\":true,\"ticks\":\"\",\"zerolinecolor\":\"white\"},\"yaxis\":{\"backgroundcolor\":\"#E5ECF6\",\"gridcolor\":\"white\",\"gridwidth\":2,\"linecolor\":\"white\",\"showbackground\":true,\"ticks\":\"\",\"zerolinecolor\":\"white\"},\"zaxis\":{\"backgroundcolor\":\"#E5ECF6\",\"gridcolor\":\"white\",\"gridwidth\":2,\"linecolor\":\"white\",\"showbackground\":true,\"ticks\":\"\",\"zerolinecolor\":\"white\"}},\"shapedefaults\":{\"line\":{\"color\":\"#2a3f5f\"}},\"ternary\":{\"aaxis\":{\"gridcolor\":\"white\",\"linecolor\":\"white\",\"ticks\":\"\"},\"baxis\":{\"gridcolor\":\"white\",\"linecolor\":\"white\",\"ticks\":\"\"},\"bgcolor\":\"#E5ECF6\",\"caxis\":{\"gridcolor\":\"white\",\"linecolor\":\"white\",\"ticks\":\"\"}},\"title\":{\"x\":0.05},\"xaxis\":{\"automargin\":true,\"gridcolor\":\"white\",\"linecolor\":\"white\",\"ticks\":\"\",\"title\":{\"standoff\":15},\"zerolinecolor\":\"white\",\"zerolinewidth\":2},\"yaxis\":{\"automargin\":true,\"gridcolor\":\"white\",\"linecolor\":\"white\",\"ticks\":\"\",\"title\":{\"standoff\":15},\"zerolinecolor\":\"white\",\"zerolinewidth\":2}}},\"title\":{\"font\":{\"color\":\"#4D5663\"}}},                        {\"showLink\": true, \"linkText\": \"Export to plot.ly\", \"plotlyServerURL\": \"https://plot.ly\", \"responsive\": true}                    ).then(function(){\n",
       "                            \n",
       "var gd = document.getElementById('f355b3ff-706e-4543-91e6-74f1c5dc1973');\n",
       "var x = new MutationObserver(function (mutations, observer) {{\n",
       "        var display = window.getComputedStyle(gd).display;\n",
       "        if (!display || display === 'none') {{\n",
       "            console.log([gd, 'removed!']);\n",
       "            Plotly.purge(gd);\n",
       "            observer.disconnect();\n",
       "        }}\n",
       "}});\n",
       "\n",
       "// Listen for the removal of the full notebook cells\n",
       "var notebookContainer = gd.closest('#notebook-container');\n",
       "if (notebookContainer) {{\n",
       "    x.observe(notebookContainer, {childList: true});\n",
       "}}\n",
       "\n",
       "// Listen for the clearing of the current output cell\n",
       "var outputEl = gd.closest('.output');\n",
       "if (outputEl) {{\n",
       "    x.observe(outputEl, {childList: true});\n",
       "}}\n",
       "\n",
       "                        })                };                });            </script>        </div>"
      ]
     },
     "metadata": {},
     "output_type": "display_data"
    }
   ],
   "source": [
    "df3.iplot(kind='scatter3d',x='X',y='Y',z='Z',\n",
    "    xTitle='First Principal Component',\n",
    "    yTitle = 'Second Principal Component',\n",
    "    zTitle = 'Third Principal Component',\n",
    "    colors = ['red','blue'],categories='tumor')"
   ]
  },
  {
   "cell_type": "code",
   "execution_count": 103,
   "id": "8c0bac01",
   "metadata": {},
   "outputs": [
    {
     "data": {
      "text/plain": [
       "array([[ 0.21890244,  0.10372458,  0.22753729,  0.22099499,  0.14258969,\n",
       "         0.23928535,  0.25840048,  0.26085376,  0.13816696,  0.06436335,\n",
       "         0.20597878,  0.01742803,  0.21132592,  0.20286964,  0.01453145,\n",
       "         0.17039345,  0.15358979,  0.1834174 ,  0.04249842,  0.10256832,\n",
       "         0.22799663,  0.10446933,  0.23663968,  0.22487053,  0.12795256,\n",
       "         0.21009588,  0.22876753,  0.25088597,  0.12290456,  0.13178394],\n",
       "       [-0.23385713, -0.05970609, -0.21518136, -0.23107671,  0.18611303,\n",
       "         0.15189161,  0.06016536, -0.0347675 ,  0.19034877,  0.36657546,\n",
       "        -0.10555215,  0.08997968, -0.08945724, -0.15229263,  0.20443045,\n",
       "         0.23271591,  0.19720728,  0.13032155,  0.183848  ,  0.28009203,\n",
       "        -0.21986638, -0.0454673 , -0.19987843, -0.21935186,  0.17230435,\n",
       "         0.14359318,  0.09796411, -0.00825724,  0.14188335,  0.27533946],\n",
       "       [-0.0085312 ,  0.06454991, -0.00931418,  0.02869954, -0.1042916 ,\n",
       "        -0.07409154,  0.00273379, -0.02556364, -0.04023986, -0.02257442,\n",
       "         0.26848139,  0.37463366,  0.26664533,  0.2160066 ,  0.30883888,\n",
       "         0.15478007,  0.17646379,  0.22465733,  0.28858425,  0.21150386,\n",
       "        -0.04750702, -0.04229782, -0.04854654, -0.01190239, -0.25979755,\n",
       "        -0.23607547, -0.17305732, -0.17034427, -0.2713127 , -0.23279146]])"
      ]
     },
     "execution_count": 103,
     "metadata": {},
     "output_type": "execute_result"
    }
   ],
   "source": [
    "pca3.components_"
   ]
  },
  {
   "cell_type": "code",
   "execution_count": 104,
   "id": "2e09ff77",
   "metadata": {},
   "outputs": [
    {
     "name": "stdout",
     "output_type": "stream",
     "text": [
      "<class 'pandas.core.frame.DataFrame'>\n",
      "RangeIndex: 569 entries, 0 to 568\n",
      "Data columns (total 5 columns):\n",
      " #   Column  Non-Null Count  Dtype  \n",
      "---  ------  --------------  -----  \n",
      " 0   X       569 non-null    float64\n",
      " 1   Y       569 non-null    float64\n",
      " 2   Z       569 non-null    float64\n",
      " 3   target  569 non-null    int64  \n",
      " 4   tumor   569 non-null    object \n",
      "dtypes: float64(3), int64(1), object(1)\n",
      "memory usage: 22.4+ KB\n"
     ]
    }
   ],
   "source": [
    "df3.info()"
   ]
  },
  {
   "cell_type": "code",
   "execution_count": 105,
   "id": "252d216f",
   "metadata": {},
   "outputs": [],
   "source": [
    "df_comp3 = pd.DataFrame(pca3.components_,\n",
    "    columns = cancer['feature_names'])"
   ]
  },
  {
   "cell_type": "code",
   "execution_count": 106,
   "id": "8ace0ad2",
   "metadata": {},
   "outputs": [
    {
     "data": {
      "text/html": [
       "<div>\n",
       "<style scoped>\n",
       "    .dataframe tbody tr th:only-of-type {\n",
       "        vertical-align: middle;\n",
       "    }\n",
       "\n",
       "    .dataframe tbody tr th {\n",
       "        vertical-align: top;\n",
       "    }\n",
       "\n",
       "    .dataframe thead th {\n",
       "        text-align: right;\n",
       "    }\n",
       "</style>\n",
       "<table border=\"1\" class=\"dataframe\">\n",
       "  <thead>\n",
       "    <tr style=\"text-align: right;\">\n",
       "      <th></th>\n",
       "      <th>mean radius</th>\n",
       "      <th>mean texture</th>\n",
       "      <th>mean perimeter</th>\n",
       "      <th>mean area</th>\n",
       "      <th>mean smoothness</th>\n",
       "      <th>mean compactness</th>\n",
       "      <th>mean concavity</th>\n",
       "      <th>mean concave points</th>\n",
       "      <th>mean symmetry</th>\n",
       "      <th>mean fractal dimension</th>\n",
       "      <th>...</th>\n",
       "      <th>worst radius</th>\n",
       "      <th>worst texture</th>\n",
       "      <th>worst perimeter</th>\n",
       "      <th>worst area</th>\n",
       "      <th>worst smoothness</th>\n",
       "      <th>worst compactness</th>\n",
       "      <th>worst concavity</th>\n",
       "      <th>worst concave points</th>\n",
       "      <th>worst symmetry</th>\n",
       "      <th>worst fractal dimension</th>\n",
       "    </tr>\n",
       "  </thead>\n",
       "  <tbody>\n",
       "    <tr>\n",
       "      <th>0</th>\n",
       "      <td>0.218902</td>\n",
       "      <td>0.103725</td>\n",
       "      <td>0.227537</td>\n",
       "      <td>0.220995</td>\n",
       "      <td>0.142590</td>\n",
       "      <td>0.239285</td>\n",
       "      <td>0.258400</td>\n",
       "      <td>0.260854</td>\n",
       "      <td>0.138167</td>\n",
       "      <td>0.064363</td>\n",
       "      <td>...</td>\n",
       "      <td>0.227997</td>\n",
       "      <td>0.104469</td>\n",
       "      <td>0.236640</td>\n",
       "      <td>0.224871</td>\n",
       "      <td>0.127953</td>\n",
       "      <td>0.210096</td>\n",
       "      <td>0.228768</td>\n",
       "      <td>0.250886</td>\n",
       "      <td>0.122905</td>\n",
       "      <td>0.131784</td>\n",
       "    </tr>\n",
       "    <tr>\n",
       "      <th>1</th>\n",
       "      <td>-0.233857</td>\n",
       "      <td>-0.059706</td>\n",
       "      <td>-0.215181</td>\n",
       "      <td>-0.231077</td>\n",
       "      <td>0.186113</td>\n",
       "      <td>0.151892</td>\n",
       "      <td>0.060165</td>\n",
       "      <td>-0.034768</td>\n",
       "      <td>0.190349</td>\n",
       "      <td>0.366575</td>\n",
       "      <td>...</td>\n",
       "      <td>-0.219866</td>\n",
       "      <td>-0.045467</td>\n",
       "      <td>-0.199878</td>\n",
       "      <td>-0.219352</td>\n",
       "      <td>0.172304</td>\n",
       "      <td>0.143593</td>\n",
       "      <td>0.097964</td>\n",
       "      <td>-0.008257</td>\n",
       "      <td>0.141883</td>\n",
       "      <td>0.275339</td>\n",
       "    </tr>\n",
       "    <tr>\n",
       "      <th>2</th>\n",
       "      <td>-0.008531</td>\n",
       "      <td>0.064550</td>\n",
       "      <td>-0.009314</td>\n",
       "      <td>0.028700</td>\n",
       "      <td>-0.104292</td>\n",
       "      <td>-0.074092</td>\n",
       "      <td>0.002734</td>\n",
       "      <td>-0.025564</td>\n",
       "      <td>-0.040240</td>\n",
       "      <td>-0.022574</td>\n",
       "      <td>...</td>\n",
       "      <td>-0.047507</td>\n",
       "      <td>-0.042298</td>\n",
       "      <td>-0.048547</td>\n",
       "      <td>-0.011902</td>\n",
       "      <td>-0.259798</td>\n",
       "      <td>-0.236075</td>\n",
       "      <td>-0.173057</td>\n",
       "      <td>-0.170344</td>\n",
       "      <td>-0.271313</td>\n",
       "      <td>-0.232791</td>\n",
       "    </tr>\n",
       "  </tbody>\n",
       "</table>\n",
       "<p>3 rows × 30 columns</p>\n",
       "</div>"
      ],
      "text/plain": [
       "   mean radius  mean texture  mean perimeter  mean area  mean smoothness  \\\n",
       "0     0.218902      0.103725        0.227537   0.220995         0.142590   \n",
       "1    -0.233857     -0.059706       -0.215181  -0.231077         0.186113   \n",
       "2    -0.008531      0.064550       -0.009314   0.028700        -0.104292   \n",
       "\n",
       "   mean compactness  mean concavity  mean concave points  mean symmetry  \\\n",
       "0          0.239285        0.258400             0.260854       0.138167   \n",
       "1          0.151892        0.060165            -0.034768       0.190349   \n",
       "2         -0.074092        0.002734            -0.025564      -0.040240   \n",
       "\n",
       "   mean fractal dimension  ...  worst radius  worst texture  worst perimeter  \\\n",
       "0                0.064363  ...      0.227997       0.104469         0.236640   \n",
       "1                0.366575  ...     -0.219866      -0.045467        -0.199878   \n",
       "2               -0.022574  ...     -0.047507      -0.042298        -0.048547   \n",
       "\n",
       "   worst area  worst smoothness  worst compactness  worst concavity  \\\n",
       "0    0.224871          0.127953           0.210096         0.228768   \n",
       "1   -0.219352          0.172304           0.143593         0.097964   \n",
       "2   -0.011902         -0.259798          -0.236075        -0.173057   \n",
       "\n",
       "   worst concave points  worst symmetry  worst fractal dimension  \n",
       "0              0.250886        0.122905                 0.131784  \n",
       "1             -0.008257        0.141883                 0.275339  \n",
       "2             -0.170344       -0.271313                -0.232791  \n",
       "\n",
       "[3 rows x 30 columns]"
      ]
     },
     "execution_count": 106,
     "metadata": {},
     "output_type": "execute_result"
    }
   ],
   "source": [
    "df_comp3"
   ]
  },
  {
   "cell_type": "code",
   "execution_count": 107,
   "id": "cd1b406e",
   "metadata": {},
   "outputs": [
    {
     "data": {
      "text/plain": [
       "<AxesSubplot:>"
      ]
     },
     "execution_count": 107,
     "metadata": {},
     "output_type": "execute_result"
    },
    {
     "data": {
      "image/png": "[encoded data removed]",
      "text/plain": [
       "<Figure size 1200x600 with 2 Axes>"
      ]
     },
     "metadata": {},
     "output_type": "display_data"
    }
   ],
   "source": [
    "plt.figure(figsize=(12,6))\n",
    "sns.heatmap(df_comp3,cmap='plasma')"
   ]
  },
  {
   "cell_type": "code",
   "execution_count": null,
   "id": "22685277",
   "metadata": {},
   "outputs": [],
   "source": []
  }
 ],
 "metadata": {
  "kernelspec": {
   "display_name": "Python 3 (ipykernel)",
   "language": "python",
   "name": "python3"
  },
  "language_info": {
   "codemirror_mode": {
    "name": "ipython",
    "version": 3
   },
   "file_extension": ".py",
   "mimetype": "text/x-python",
   "name": "python",
   "nbconvert_exporter": "python",
   "pygments_lexer": "ipython3",
   "version": "3.9.13"
  }
 },
 "nbformat": 4,
 "nbformat_minor": 5
}
